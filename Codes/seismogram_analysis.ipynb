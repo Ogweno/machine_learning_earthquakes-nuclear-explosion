{
 "cells": [
  {
   "cell_type": "code",
   "execution_count": 7,
   "metadata": {
    "collapsed": true
   },
   "outputs": [],
   "source": [
    "import obspy\n",
    "import glob\n",
    "import os, sys\n",
    "import numpy as np\n",
    "from obspy import read, read_inventory\n",
    "import obspy.signal\n",
    "import matplotlib.pyplot as plt\n",
    "import scipy.signal as signal\n",
    "\n",
    "# latex parameter\n",
    "font = {\n",
    "    'family': 'serif', \n",
    "    'serif': ['Computer Modern Roman'],\n",
    "    'weight' : 'regular',\n",
    "    'size'   : 14\n",
    "    }\n",
    "\n",
    "plt.rc('font', **font)\n",
    "plt.rc('text', usetex=True)\n",
    "# plt.style.use('classic')\n",
    "\n",
    "color_map = 'viridis'"
   ]
  },
  {
   "cell_type": "code",
   "execution_count": 4,
   "metadata": {},
   "outputs": [
    {
     "name": "stderr",
     "output_type": "stream",
     "text": [
      "/usr/local/lib/python3.6/site-packages/obspy/core/trace.py:187: UserWarning: Calibration factor set to 0.0!\n",
      "  warnings.warn(msg, UserWarning)\n"
     ]
    }
   ],
   "source": [
    "earthquakes = read('./seismogram_v2/earthquakes/*.SAC')\n",
    "explosions = read('./seismogram_v2/explosions/*.SAC')"
   ]
  },
  {
   "cell_type": "code",
   "execution_count": 32,
   "metadata": {},
   "outputs": [
    {
     "name": "stdout",
     "output_type": "stream",
     "text": [
      "Number of earthquakes: 12962\n",
      "Number of Explosions: 10498\n"
     ]
    }
   ],
   "source": [
    "print('Number of earthquakes: {}'.format(len(earthquakes)))\n",
    "print('Number of Explosions: {}'.format(len(explosions)))"
   ]
  },
  {
   "cell_type": "code",
   "execution_count": 33,
   "metadata": {
    "collapsed": true
   },
   "outputs": [],
   "source": [
    "eqntrk = []\n",
    "exntrk = []\n",
    "for i in range(len(earthquakes)):\n",
    "    eqntrk.append(earthquakes[i].stats.network)\n",
    "\n",
    "for i in range(len(explosions)):\n",
    "    exntrk.append(explosions[i].stats.network)\n",
    "    "
   ]
  },
  {
   "cell_type": "code",
   "execution_count": 34,
   "metadata": {},
   "outputs": [
    {
     "name": "stdout",
     "output_type": "stream",
     "text": [
      "['AE' 'AK' 'AT' 'AV' 'AZ' 'BK' 'CC' 'CI' 'CM' 'CN' 'CU' 'DK' 'DR' 'EP' 'G'\n",
      " 'GE' 'GS' 'HW' 'II' 'IM' 'IU' 'IW' 'KP' 'LB' 'LD' 'LI' 'MB' 'MX' 'N4' 'NE'\n",
      " 'NM' 'NN' 'NO' 'NR' 'NU' 'OK' 'OO' 'PE' 'PM' 'PN' 'PO' 'PR' 'PY' 'RV' 'SC'\n",
      " 'SS' 'SV' 'TA' 'TS' 'UO' 'US' 'UU' 'UW' 'VE' 'WC' 'WI' 'X1' 'X5' 'X9' 'XK'\n",
      " 'XL' 'XN' 'XQ' 'XR' 'XU' 'XV' 'XZ' 'Y5' 'YH' 'YN' 'YO' 'YW' 'Z4' 'ZC']\n"
     ]
    }
   ],
   "source": [
    "print(np.unique(eqntrk))"
   ]
  },
  {
   "cell_type": "code",
   "execution_count": 35,
   "metadata": {},
   "outputs": [
    {
     "name": "stdout",
     "output_type": "stream",
     "text": [
      "['AE' 'AK' 'AT' 'AV' 'AZ' 'BK' 'CC' 'CI' 'CM' 'CN' 'CU' 'DK' 'DR' 'G' 'GE'\n",
      " 'GS' 'II' 'IM' 'IU' 'IW' 'LB' 'LD' 'MB' 'MC' 'MX' 'N4' 'NA' 'NE' 'NM' 'NU'\n",
      " 'OK' 'OO' 'PB' 'PE' 'PN' 'PR' 'PY' 'RV' 'SC' 'SV' 'TA' 'TR' 'TS' 'UO' 'US'\n",
      " 'UU' 'UW' 'VE' 'WC' 'WI' 'X4' 'X8' 'XD' 'XI' 'XO' 'XQ' 'XT' 'XW' 'XY' 'YE'\n",
      " 'YN' 'YZ' 'Z9' 'ZC']\n"
     ]
    }
   ],
   "source": [
    "print(np.unique(exntrk))"
   ]
  },
  {
   "cell_type": "code",
   "execution_count": 36,
   "metadata": {},
   "outputs": [
    {
     "name": "stdout",
     "output_type": "stream",
     "text": [
      "['AE' 'AK' 'AT' 'AV' 'AZ' 'BK' 'CC' 'CI' 'CM' 'CN' 'CU' 'DK' 'DR' 'EP' 'G'\n",
      " 'GE' 'GS' 'HW' 'II' 'IM' 'IU' 'IW' 'KP' 'LB' 'LD' 'LI' 'MB' 'MC' 'MX' 'N4'\n",
      " 'NA' 'NE' 'NM' 'NN' 'NO' 'NR' 'NU' 'OK' 'OO' 'PB' 'PE' 'PM' 'PN' 'PO' 'PR'\n",
      " 'PY' 'RV' 'SC' 'SS' 'SV' 'TA' 'TR' 'TS' 'UO' 'US' 'UU' 'UW' 'VE' 'WC' 'WI'\n",
      " 'X1' 'X4' 'X5' 'X8' 'X9' 'XD' 'XI' 'XK' 'XL' 'XN' 'XO' 'XQ' 'XR' 'XT' 'XU'\n",
      " 'XV' 'XW' 'XY' 'XZ' 'Y5' 'YE' 'YH' 'YN' 'YO' 'YW' 'YZ' 'Z4' 'Z9' 'ZC']\n"
     ]
    }
   ],
   "source": [
    "net = exntrk + eqntrk\n",
    "print(np.unique(net))"
   ]
  },
  {
   "cell_type": "code",
   "execution_count": 22,
   "metadata": {},
   "outputs": [
    {
     "name": "stdout",
     "output_type": "stream",
     "text": [
      "         network: AE\n",
      "         station: X16A\n",
      "        location: \n",
      "         channel: BHE\n",
      "       starttime: 2010-03-12T23:33:45.024998Z\n",
      "         endtime: 2010-03-12T23:54:44.999998Z\n",
      "   sampling_rate: 40.0\n",
      "           delta: 0.025\n",
      "            npts: 50400\n",
      "           calib: 6.30907e+08\n",
      "         _format: SAC\n",
      "             sac: AttribDict({'delta': 0.025, 'scale': 6.3090701e+08, 'b': 0.00099800003, 'e': 1259.976, 'o': -830.02502, 'stla': 34.417801, 'stlo': -111.4411, 'stel': 1759.4, 'stdp': 0.0, 'evla': 23.057301, 'evlo': 94.582802, 'evdp': 107.2, 'dist': 13089.134, 'az': 24.188005, 'baz': 332.83875, 'gcarc': 117.71863, 'cmpaz': 88.199997, 'cmpinc': 90.0, 'nzyear': 2010, 'nzjday': 71, 'nzhour': 23, 'nzmin': 33, 'nzsec': 45, 'nzmsec': 24, 'nvhdr': 6, 'npts': 50400, 'iftype': 1, 'leven': 1, 'kstnm': 'X16A', 'kevnm': 'Myanmar-India Bo', 'kcmpnm': 'BHE', 'knetwk': 'AE', 'kinst': 'Guralp C'})\n"
     ]
    }
   ],
   "source": [
    "print(earthquakes[0].stats)"
   ]
  },
  {
   "cell_type": "markdown",
   "metadata": {},
   "source": [
    "## Get the statioins and theior location"
   ]
  },
  {
   "cell_type": "code",
   "execution_count": 49,
   "metadata": {
    "collapsed": true
   },
   "outputs": [],
   "source": [
    "eqsta = []\n",
    "exsta = []\n",
    "for i in range(len(earthquakes)):\n",
    "    eqsta.append(earthquakes[i].stats['sac']['kstnm'])\n",
    "\n",
    "for i in range(len(explosions)):\n",
    "    exsta.append(explosions[i].stats['sac']['kstnm'])\n",
    "    \n",
    "stations = np.unique(eqsta + exsta)"
   ]
  },
  {
   "cell_type": "code",
   "execution_count": 50,
   "metadata": {},
   "outputs": [],
   "source": [
    "station_info = []\n",
    "for sta in stations:\n",
    "    seq = earthquakes.select(station=str(sta))\n",
    "    \n",
    "    if (seq):  \n",
    "        info  = {'station': sta, 'lat':seq[0].stats['sac']['stla'], 'long': seq[0].stats['sac']['stlo']}\n",
    "        station_info.append(info)\n",
    "    else:\n",
    "        \n",
    "        sex = explosions.select(station=str(sta))\n",
    "        info  = {'station': sta, 'lat':sex[0].stats['sac']['stla'], 'long': sex[0].stats['sac']['stlo']}\n",
    "        station_info.append(info)"
   ]
  },
  {
   "cell_type": "code",
   "execution_count": 70,
   "metadata": {},
   "outputs": [
    {
     "name": "stdout",
     "output_type": "stream",
     "text": [
      "[{'station': '034A', 'lat': 27.064699, 'long': -98.683296}, {'station': '035A', 'lat': 26.937901, 'long': -98.102303}, {'station': '035Z', 'lat': 26.462999, 'long': -98.068298}, {'station': '058A', 'lat': 27.0569, 'long': -81.804901}, {'station': '059A', 'lat': 26.9671, 'long': -81.143997}, {'station': '059Z', 'lat': 26.337299, 'long': -81.443199}, {'station': '060A', 'lat': 27.0361, 'long': -80.361801}, {'station': '060Z', 'lat': 26.4062, 'long': -80.556}, {'station': '061Z', 'lat': 25.8657, 'long': -80.906998}, {'station': '062Z', 'lat': 24.726601, 'long': -81.052299}]\n"
     ]
    }
   ],
   "source": [
    "print(station_info[0:10])"
   ]
  },
  {
   "cell_type": "code",
   "execution_count": 53,
   "metadata": {},
   "outputs": [],
   "source": [
    "import pickle\n",
    "output = open('station_info.pkl', 'wb')\n",
    "pickle.dump(station_info, output)\n",
    "output.close()"
   ]
  },
  {
   "cell_type": "markdown",
   "metadata": {},
   "source": [
    "## Event Info"
   ]
  },
  {
   "cell_type": "code",
   "execution_count": 57,
   "metadata": {},
   "outputs": [
    {
     "ename": "ModuleNotFoundError",
     "evalue": "No module named 'mpl_toolkits.basemap'",
     "output_type": "error",
     "traceback": [
      "\u001b[0;31m---------------------------------------------------------------------------\u001b[0m",
      "\u001b[0;31mModuleNotFoundError\u001b[0m                       Traceback (most recent call last)",
      "\u001b[0;32m<ipython-input-57-c195371b67a6>\u001b[0m in \u001b[0;36m<module>\u001b[0;34m()\u001b[0m\n\u001b[1;32m      1\u001b[0m \u001b[0;32mimport\u001b[0m \u001b[0mnumpy\u001b[0m \u001b[0;32mas\u001b[0m \u001b[0mnp\u001b[0m\u001b[0;34m\u001b[0m\u001b[0m\n\u001b[1;32m      2\u001b[0m \u001b[0;32mimport\u001b[0m \u001b[0mmatplotlib\u001b[0m\u001b[0;34m.\u001b[0m\u001b[0mpyplot\u001b[0m \u001b[0;32mas\u001b[0m \u001b[0mplt\u001b[0m\u001b[0;34m\u001b[0m\u001b[0m\n\u001b[0;32m----> 3\u001b[0;31m \u001b[0;32mfrom\u001b[0m \u001b[0mmpl_toolkits\u001b[0m\u001b[0;34m.\u001b[0m\u001b[0mbasemap\u001b[0m \u001b[0;32mimport\u001b[0m \u001b[0mBasemap\u001b[0m\u001b[0;34m\u001b[0m\u001b[0m\n\u001b[0m\u001b[1;32m      4\u001b[0m \u001b[0;31m# llcrnrlat,llcrnrlon,urcrnrlat,urcrnrlon\u001b[0m\u001b[0;34m\u001b[0m\u001b[0;34m\u001b[0m\u001b[0m\n\u001b[1;32m      5\u001b[0m \u001b[0;31m# are the lat/lon values of the lower left and upper right corners\u001b[0m\u001b[0;34m\u001b[0m\u001b[0;34m\u001b[0m\u001b[0m\n",
      "\u001b[0;31mModuleNotFoundError\u001b[0m: No module named 'mpl_toolkits.basemap'"
     ]
    }
   ],
   "source": [
    "from mpl_toolkits.basemap import Basemap\n",
    "# llcrnrlat,llcrnrlon,urcrnrlat,urcrnrlon\n",
    "# are the lat/lon values of the lower left and upper right corners\n",
    "# of the map.\n",
    "# resolution = 'c' means use crude resolution coastlines.\n",
    "m = Basemap(projection='cyl',llcrnrlat=-90,urcrnrlat=90,\\\n",
    "            llcrnrlon=-180,urcrnrlon=180,resolution='c')\n",
    "m.drawcoastlines()\n",
    "m.fillcontinents(color='coral',lake_color='aqua')\n",
    "# draw parallels and meridians.\n",
    "m.drawparallels(np.arange(-90.,91.,30.))\n",
    "m.drawmeridians(np.arange(-180.,181.,60.))\n",
    "m.drawmapboundary(fill_color='aqua')\n",
    "plt.title(\"Equidistant Cylindrical Projection\")\n",
    "plt.show()"
   ]
  },
  {
   "cell_type": "code",
   "execution_count": 14,
   "metadata": {},
   "outputs": [
    {
     "data": {
      "text/plain": [
       "         network: CI\n",
       "         station: MLAC\n",
       "        location: \n",
       "         channel: BHZ\n",
       "       starttime: 2004-12-26T01:13:38.013800Z\n",
       "         endtime: 2004-12-26T01:34:37.963800Z\n",
       "   sampling_rate: 20.0\n",
       "           delta: 0.05\n",
       "            npts: 25200\n",
       "           calib: 6.21403e+08\n",
       "         _format: SAC\n",
       "             paz: AttribDict({'seismometer_gain': 1.0, 'digitizer_gain': 1.0, 'poles': [(-0.0123+0.0123j), (-0.0123-0.0123j), (-502+188j), (-502-188j)], 'zeros': [0j, 0j, 0j, (1000+0j)], 'sensitivity': 1.0, 'gain': 178580700000.0})\n",
       "             sac: AttribDict({'delta': 0.050000001, 'scale': 6.2140301e+08, 'b': 0.00079999998, 'e': 1259.9508, 'o': -886.01379, 'stla': 37.630192, 'stlo': -118.83605, 'stel': 2162.0, 'stdp': 0.0, 'evla': 3.4124999, 'evlo': 95.901199, 'evdp': 26.1, 'dist': 14229.828, 'az': 35.024719, 'baz': 313.81171, 'gcarc': 127.97759, 'cmpaz': 0.0, 'cmpinc': 0.0, 'nzyear': 2004, 'nzjday': 361, 'nzhour': 1, 'nzmin': 13, 'nzsec': 38, 'nzmsec': 13, 'nvhdr': 6, 'npts': 25200, 'iftype': 1, 'leven': 1, 'kstnm': 'MLAC', 'kevnm': 'Off W Coast Of N', 'kcmpnm': 'BHZ', 'knetwk': 'CI', 'kinst': 'CMG-1T,G'})"
      ]
     },
     "execution_count": 14,
     "metadata": {},
     "output_type": "execute_result"
    }
   ],
   "source": [
    "# SACPZ.US.OXF.--.BHZ\n",
    "paz_file = 'SACPZ.'+ tr.stats['sac']['knetwk']+'.'+ tr.stats['sac']['kstnm'] + '.--.'+ tr.stats['sac']['kcmpnm']\n",
    "root_path = './seismogram_v2/earthquakes/2004-12-26-mw90-sumatra/'\n",
    "path_name = str(root_path + paz_file)\n",
    "attach_paz(tr, path_name)\n",
    "tr.stats"
   ]
  },
  {
   "cell_type": "code",
   "execution_count": 21,
   "metadata": {},
   "outputs": [
    {
     "name": "stdout",
     "output_type": "stream",
     "text": [
      "         network: CI\n",
      "         station: MLAC\n",
      "        location: \n",
      "         channel: BHE\n",
      "       starttime: 1998-05-11T10:27:33.015501Z\n",
      "         endtime: 1998-05-11T10:48:32.965501Z\n",
      "   sampling_rate: 20.0\n",
      "           delta: 0.05\n",
      "            npts: 25200\n",
      "           calib: 6.41991e+08\n",
      "         _format: SAC\n",
      "             sac: AttribDict({'delta': 0.050000001, 'scale': 6.4199098e+08, 'b': 0.00050099997, 'e': 1259.9506, 'o': -831.0155, 'stla': 37.630192, 'stlo': -118.83605, 'stel': 2162.0, 'stdp': 0.0, 'evla': 27.0812, 'evlo': 71.759399, 'evdp': 0.0, 'dist': 12771.913, 'az': 9.2592278, 'baz': 349.58997, 'gcarc': 114.86566, 'cmpaz': 90.0, 'cmpinc': 90.0, 'nzyear': 1998, 'nzjday': 131, 'nzhour': 10, 'nzmin': 27, 'nzsec': 33, 'nzmsec': 15, 'nvhdr': 6, 'npts': 25200, 'iftype': 1, 'leven': 1, 'kstnm': 'MLAC', 'kevnm': 'India-Pakistan B', 'kcmpnm': 'BHE', 'knetwk': 'CI', 'kinst': 'STS-2,ST'})\n"
     ]
    }
   ],
   "source": [
    "station_name = 'MLAC'\n",
    "steq = earthquakes.select(station= station_name)\n",
    "stex = explosions.select(station= station_name)\n",
    "\n",
    "print(stex[0].stats)\n",
    "\n",
    "plt.figure(figsize=(10,3))\n",
    "\n",
    "plt.subplot(121)\n",
    "plt.plot(steq[0].data)\n",
    "plt.xlabel('Number of data points')\n",
    "plt.ylabel('Counts')\n",
    "plt.title('Eartqauke')\n",
    "\n",
    "plt.subplot(122)\n",
    "plt.plot(stex[0].data)\n",
    "plt.xlabel('Number of data points')\n",
    "plt.title('Explosion')\n",
    "plt.tight_layout()\n",
    "plt.savefig('raw_seismograms.png')\n",
    "plt.show()"
   ]
  },
  {
   "cell_type": "code",
   "execution_count": 5,
   "metadata": {},
   "outputs": [
    {
     "name": "stdout",
     "output_type": "stream",
     "text": [
      "         network: 1F\n",
      "         station: SAB1\n",
      "        location: \n",
      "         channel: BHE\n",
      "       starttime: 2016-01-06T01:43:43.000000Z\n",
      "         endtime: 2016-01-06T02:04:43.000000Z\n",
      "   sampling_rate: 50.0\n",
      "           delta: 0.02\n",
      "            npts: 63001\n",
      "           calib: 1.20135e+09\n",
      "         _format: SAC\n",
      "             sac: AttribDict({'delta': 0.02, 'scale': 1.20135e+09, 'b': 0.0, 'e': 1260.0, 'o': -822.0, 'stla': 14.7484, 'stlo': -91.578796, 'stel': 2288.0, 'stdp': 0.0, 'evla': 41.299599, 'evlo': 129.04671, 'evdp': 0.0, 'dist': 12538.181, 'az': 43.089725, 'baz': 327.85742, 'gcarc': 112.76357, 'cmpaz': 90.0, 'cmpinc': 90.0, 'nzyear': 2016, 'nzjday': 6, 'nzhour': 1, 'nzmin': 43, 'nzsec': 43, 'nzmsec': 0, 'nvhdr': 6, 'npts': 63001, 'iftype': 1, 'leven': 1, 'kstnm': 'SAB1', 'kevnm': 'North Korea', 'kcmpnm': 'BHE', 'knetwk': '1F', 'kinst': 'Nanometr'})\n"
     ]
    }
   ],
   "source": [
    "print(explosions[0].stats)"
   ]
  },
  {
   "cell_type": "code",
   "execution_count": 6,
   "metadata": {
    "collapsed": true,
    "scrolled": false
   },
   "outputs": [],
   "source": [
    "stations = []\n",
    "for i in range(len(st)):\n",
    "    stations.append(st[i].stats['sac']['kstnm'])\n",
    "stations = np.unique(stations)"
   ]
  },
  {
   "cell_type": "code",
   "execution_count": 7,
   "metadata": {
    "collapsed": true
   },
   "outputs": [],
   "source": [
    "broads = []\n",
    "for i in stations:\n",
    "    ncomp = len(st.select(station=i))\n",
    "    if ncomp == 3:\n",
    "        broads.append(i)\n",
    "#         print('Station: {} and no of comp: {}'.format(i, ncomp))"
   ]
  },
  {
   "cell_type": "markdown",
   "metadata": {},
   "source": [
    "### show processed seismograms"
   ]
  },
  {
   "cell_type": "code",
   "execution_count": 13,
   "metadata": {},
   "outputs": [],
   "source": [
    "%matplotlib tk\n",
    "def plot_seismograms(st):\n",
    "    \n",
    "    plt.figure(figsize=(6, 4))\n",
    "    for i in range(len(st)):\n",
    "        if (st[i].stats['sac']['kcmpnm'] == 'BHZ'):\n",
    "            plt.subplot(311)\n",
    "            plt.plot(signal.detrend(st[i].data), 'b-')\n",
    "            plt.title('Vertical component')\n",
    "            plt.xticks([])\n",
    "\n",
    "        elif (st[i].stats['sac']['kcmpnm'] == 'BHE'):\n",
    "            plt.subplot(312)\n",
    "            plt.plot(signal.detrend(st[i].data), 'r-')\n",
    "            plt.title('East-west component')\n",
    "            plt.xticks([])\n",
    "\n",
    "        elif (st[i].stats['sac']['kcmpnm'] == 'BHN'):\n",
    "            plt.subplot(313)\n",
    "            plt.plot(signal.detrend(st[i].data), 'k-')\n",
    "            plt.title('North-south component')\n",
    "            plt.xlabel('Number of data points')\n",
    "    \n",
    "    plt.tight_layout()\n",
    "    plt.show()"
   ]
  },
  {
   "cell_type": "code",
   "execution_count": 19,
   "metadata": {},
   "outputs": [],
   "source": [
    "plot_seismograms(earthquakes[0:200])"
   ]
  },
  {
   "cell_type": "code",
   "execution_count": 18,
   "metadata": {},
   "outputs": [],
   "source": [
    "plot_seismograms(explosions[0:200])"
   ]
  },
  {
   "cell_type": "code",
   "execution_count": 91,
   "metadata": {
    "collapsed": true
   },
   "outputs": [],
   "source": [
    "import librosa\n",
    "import scipy as sp\n",
    "import scipy.signal as signal\n",
    "aa = librosa.feature.rmse(y=ss[0].data)"
   ]
  },
  {
   "cell_type": "code",
   "execution_count": 95,
   "metadata": {
    "collapsed": true
   },
   "outputs": [],
   "source": [
    "ss = st.select(station=broads[100])\n",
    "data = ss[0].data\n",
    "sample_rate = ss[0].stats.sampling_rate\n",
    "f, Pxx_den = signal.periodogram(data, sample_rate)"
   ]
  },
  {
   "cell_type": "code",
   "execution_count": 96,
   "metadata": {},
   "outputs": [
    {
     "data": {
      "image/png": "[encoded data removed]",
      "text/plain": [
       "<matplotlib.figure.Figure at 0x10fce2c88>"
      ]
     },
     "metadata": {},
     "output_type": "display_data"
    }
   ],
   "source": [
    "plt.semilogy(f, Pxx_den)\n",
    "plt.ylim([1e-7, 1e2])\n",
    "plt.xlabel('frequency [Hz]')\n",
    "plt.ylabel('PSD [V**2/Hz]')\n",
    "plt.show()"
   ]
  },
  {
   "cell_type": "code",
   "execution_count": 99,
   "metadata": {},
   "outputs": [
    {
     "data": {
      "text/plain": [
       "50.532509295753336"
      ]
     },
     "execution_count": 99,
     "metadata": {},
     "output_type": "execute_result"
    }
   ],
   "source": [
    "np.sqrt(Pxx_den.max())"
   ]
  },
  {
   "cell_type": "code",
   "execution_count": 100,
   "metadata": {},
   "outputs": [
    {
     "data": {
      "image/png": "[encoded data removed]",
      "text/plain": [
       "<matplotlib.figure.Figure at 0x10fa755f8>"
      ]
     },
     "metadata": {},
     "output_type": "display_data"
    }
   ],
   "source": [
    "f, Pxx_spec = signal.periodogram(data, sample_rate, 'flattop', scaling='spectrum')\n",
    "plt.figure()\n",
    "plt.semilogy(f, np.sqrt(Pxx_spec))\n",
    "plt.ylim([1e-4, 1e1])\n",
    "plt.xlabel('frequency [Hz]')\n",
    "plt.ylabel('Linear spectrum [V RMS]')\n",
    "plt.show()\n"
   ]
  },
  {
   "cell_type": "code",
   "execution_count": 101,
   "metadata": {},
   "outputs": [
    {
     "data": {
      "text/plain": [
       "3.4125940076090702"
      ]
     },
     "execution_count": 101,
     "metadata": {},
     "output_type": "execute_result"
    }
   ],
   "source": [
    "np.sqrt(Pxx_spec.max())"
   ]
  },
  {
   "cell_type": "code",
   "execution_count": null,
   "metadata": {
    "collapsed": true
   },
   "outputs": [],
   "source": []
  }
 ],
 "metadata": {
  "kernelspec": {
   "display_name": "Python 3",
   "language": "python",
   "name": "python3"
  },
  "language_info": {
   "codemirror_mode": {
    "name": "ipython",
    "version": 3
   },
   "file_extension": ".py",
   "mimetype": "text/x-python",
   "name": "python",
   "nbconvert_exporter": "python",
   "pygments_lexer": "ipython3",
   "version": "3.6.1"
  }
 },
 "nbformat": 4,
 "nbformat_minor": 2
}
