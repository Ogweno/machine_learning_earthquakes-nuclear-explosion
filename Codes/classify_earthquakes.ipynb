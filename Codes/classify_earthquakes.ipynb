{
 "cells": [
  {
   "cell_type": "code",
   "execution_count": 2,
   "metadata": {
    "collapsed": true
   },
   "outputs": [],
   "source": [
    "%matplotlib inline\n",
    "import numpy as np\n",
    "import scipy as sp\n",
    "import scipy.signal as signal\n",
    "import pandas as pd\n",
    "import matplotlib.pyplot as plt\n",
    "from sklearn.utils import shuffle\n",
    "from sklearn.preprocessing import StandardScaler\n",
    "from sklearn.ensemble import RandomForestClassifier\n",
    "from sklearn.model_selection import StratifiedKFold, GridSearchCV\n",
    "from sklearn.metrics import accuracy_score, confusion_matrix, classification_report, roc_auc_score\n",
    "from sklearn.model_selection import train_test_split\n",
    "from sklearn.utils import shuffle\n",
    "import seaborn as sns\n",
    "import warnings\n",
    "import sys, os\n",
    "\n",
    "warnings.filterwarnings('ignore')\n",
    "random_state = 6\n",
    "np.random.seed(random_state)"
   ]
  },
  {
   "cell_type": "code",
   "execution_count": 3,
   "metadata": {
    "collapsed": true
   },
   "outputs": [],
   "source": [
    "dir_path = '../../pipeline_modules/'\n",
    "sys.path.append(dir_path)"
   ]
  },
  {
   "cell_type": "code",
   "execution_count": 4,
   "metadata": {},
   "outputs": [],
   "source": [
    "import visuals as vs\n",
    "# filename = 'seismogram_data_cents_db.csv'\n",
    "filename = 'seismogram_data_62.csv'\n",
    "# filename = 'seismogram_data_62_mel190.csv'\n",
    "df = pd.read_csv(filename)\n",
    "viz = vs.vizualization(df)"
   ]
  },
  {
   "cell_type": "markdown",
   "metadata": {},
   "source": [
    "## Basic statistics"
   ]
  },
  {
   "cell_type": "code",
   "execution_count": 5,
   "metadata": {},
   "outputs": [
    {
     "data": {
      "text/html": [
       "<div>\n",
       "<style>\n",
       "    .dataframe thead tr:only-child th {\n",
       "        text-align: right;\n",
       "    }\n",
       "\n",
       "    .dataframe thead th {\n",
       "        text-align: left;\n",
       "    }\n",
       "\n",
       "    .dataframe tbody tr th {\n",
       "        vertical-align: top;\n",
       "    }\n",
       "</style>\n",
       "<table border=\"1\" class=\"dataframe\">\n",
       "  <thead>\n",
       "    <tr style=\"text-align: right;\">\n",
       "      <th></th>\n",
       "      <th>mfccs_0</th>\n",
       "      <th>mfccs_1</th>\n",
       "      <th>mfccs_2</th>\n",
       "      <th>mfccs_3</th>\n",
       "      <th>mfccs_4</th>\n",
       "      <th>mfccs_5</th>\n",
       "      <th>mfccs_6</th>\n",
       "      <th>mfccs_7</th>\n",
       "      <th>mfccs_8</th>\n",
       "      <th>mfccs_9</th>\n",
       "      <th>...</th>\n",
       "      <th>centiroid</th>\n",
       "      <th>max_amplitude</th>\n",
       "      <th>mean_amplitude</th>\n",
       "      <th>moment</th>\n",
       "      <th>variation</th>\n",
       "      <th>skew</th>\n",
       "      <th>var</th>\n",
       "      <th>autocr</th>\n",
       "      <th>kurto</th>\n",
       "      <th>target</th>\n",
       "    </tr>\n",
       "  </thead>\n",
       "  <tbody>\n",
       "    <tr>\n",
       "      <th>count</th>\n",
       "      <td>1606.000000</td>\n",
       "      <td>1606.000000</td>\n",
       "      <td>1606.000000</td>\n",
       "      <td>1606.000000</td>\n",
       "      <td>1606.000000</td>\n",
       "      <td>1606.000000</td>\n",
       "      <td>1606.000000</td>\n",
       "      <td>1606.000000</td>\n",
       "      <td>1606.000000</td>\n",
       "      <td>1606.000000</td>\n",
       "      <td>...</td>\n",
       "      <td>1606.000000</td>\n",
       "      <td>1.606000e+03</td>\n",
       "      <td>1.606000e+03</td>\n",
       "      <td>1606.0</td>\n",
       "      <td>1606.000000</td>\n",
       "      <td>1606.000000</td>\n",
       "      <td>1.606000e+03</td>\n",
       "      <td>1.606000e+03</td>\n",
       "      <td>1606.000000</td>\n",
       "      <td>1606.000000</td>\n",
       "    </tr>\n",
       "    <tr>\n",
       "      <th>mean</th>\n",
       "      <td>941.665095</td>\n",
       "      <td>75.003741</td>\n",
       "      <td>9.231527</td>\n",
       "      <td>50.089629</td>\n",
       "      <td>9.011473</td>\n",
       "      <td>33.163889</td>\n",
       "      <td>11.137501</td>\n",
       "      <td>21.313839</td>\n",
       "      <td>13.738046</td>\n",
       "      <td>14.940774</td>\n",
       "      <td>...</td>\n",
       "      <td>620.513687</td>\n",
       "      <td>1.055193e+09</td>\n",
       "      <td>1.110251e+06</td>\n",
       "      <td>0.0</td>\n",
       "      <td>278.243072</td>\n",
       "      <td>-0.188070</td>\n",
       "      <td>3.743952e+12</td>\n",
       "      <td>5.021586e+17</td>\n",
       "      <td>31.972242</td>\n",
       "      <td>0.323163</td>\n",
       "    </tr>\n",
       "    <tr>\n",
       "      <th>std</th>\n",
       "      <td>225.061154</td>\n",
       "      <td>37.099307</td>\n",
       "      <td>35.261332</td>\n",
       "      <td>19.673425</td>\n",
       "      <td>23.210687</td>\n",
       "      <td>12.591131</td>\n",
       "      <td>14.331587</td>\n",
       "      <td>7.673028</td>\n",
       "      <td>8.545568</td>\n",
       "      <td>5.140691</td>\n",
       "      <td>...</td>\n",
       "      <td>737.102635</td>\n",
       "      <td>4.208591e+09</td>\n",
       "      <td>5.156415e+06</td>\n",
       "      <td>0.0</td>\n",
       "      <td>7662.201633</td>\n",
       "      <td>4.893058</td>\n",
       "      <td>2.781032e+13</td>\n",
       "      <td>4.202786e+18</td>\n",
       "      <td>763.247083</td>\n",
       "      <td>0.467830</td>\n",
       "    </tr>\n",
       "    <tr>\n",
       "      <th>min</th>\n",
       "      <td>487.638894</td>\n",
       "      <td>0.590916</td>\n",
       "      <td>-95.650386</td>\n",
       "      <td>9.991572</td>\n",
       "      <td>-63.162621</td>\n",
       "      <td>5.273298</td>\n",
       "      <td>-38.585637</td>\n",
       "      <td>0.495500</td>\n",
       "      <td>-20.883890</td>\n",
       "      <td>-4.159762</td>\n",
       "      <td>...</td>\n",
       "      <td>3.609066</td>\n",
       "      <td>3.078643e+04</td>\n",
       "      <td>2.039792e+02</td>\n",
       "      <td>0.0</td>\n",
       "      <td>-18424.601562</td>\n",
       "      <td>-148.536407</td>\n",
       "      <td>1.145826e+00</td>\n",
       "      <td>1.647420e+08</td>\n",
       "      <td>-1.557898</td>\n",
       "      <td>0.000000</td>\n",
       "    </tr>\n",
       "    <tr>\n",
       "      <th>25%</th>\n",
       "      <td>775.150225</td>\n",
       "      <td>46.703585</td>\n",
       "      <td>-14.839313</td>\n",
       "      <td>36.362204</td>\n",
       "      <td>-7.899532</td>\n",
       "      <td>24.523875</td>\n",
       "      <td>2.047651</td>\n",
       "      <td>16.663696</td>\n",
       "      <td>9.773171</td>\n",
       "      <td>12.017408</td>\n",
       "      <td>...</td>\n",
       "      <td>134.614808</td>\n",
       "      <td>1.197471e+06</td>\n",
       "      <td>3.374144e+03</td>\n",
       "      <td>0.0</td>\n",
       "      <td>-0.564912</td>\n",
       "      <td>-0.066578</td>\n",
       "      <td>1.089125e+05</td>\n",
       "      <td>4.726152e+10</td>\n",
       "      <td>-0.056514</td>\n",
       "      <td>0.000000</td>\n",
       "    </tr>\n",
       "    <tr>\n",
       "      <th>50%</th>\n",
       "      <td>900.926968</td>\n",
       "      <td>74.069958</td>\n",
       "      <td>12.228716</td>\n",
       "      <td>49.900223</td>\n",
       "      <td>12.684427</td>\n",
       "      <td>31.645115</td>\n",
       "      <td>14.229327</td>\n",
       "      <td>20.592639</td>\n",
       "      <td>15.489321</td>\n",
       "      <td>15.137249</td>\n",
       "      <td>...</td>\n",
       "      <td>319.441259</td>\n",
       "      <td>5.082282e+06</td>\n",
       "      <td>1.280547e+04</td>\n",
       "      <td>0.0</td>\n",
       "      <td>0.114271</td>\n",
       "      <td>-0.004160</td>\n",
       "      <td>1.769261e+06</td>\n",
       "      <td>7.682032e+11</td>\n",
       "      <td>0.241702</td>\n",
       "      <td>0.000000</td>\n",
       "    </tr>\n",
       "    <tr>\n",
       "      <th>75%</th>\n",
       "      <td>1095.790912</td>\n",
       "      <td>100.281783</td>\n",
       "      <td>35.329806</td>\n",
       "      <td>63.719153</td>\n",
       "      <td>28.028384</td>\n",
       "      <td>40.849423</td>\n",
       "      <td>22.416433</td>\n",
       "      <td>25.514643</td>\n",
       "      <td>19.247300</td>\n",
       "      <td>18.234024</td>\n",
       "      <td>...</td>\n",
       "      <td>797.667762</td>\n",
       "      <td>2.041975e+08</td>\n",
       "      <td>2.653403e+05</td>\n",
       "      <td>0.0</td>\n",
       "      <td>2.218386</td>\n",
       "      <td>0.057529</td>\n",
       "      <td>6.593582e+08</td>\n",
       "      <td>8.217131e+14</td>\n",
       "      <td>1.950677</td>\n",
       "      <td>1.000000</td>\n",
       "    </tr>\n",
       "    <tr>\n",
       "      <th>max</th>\n",
       "      <td>1572.073401</td>\n",
       "      <td>202.898203</td>\n",
       "      <td>98.485401</td>\n",
       "      <td>123.096246</td>\n",
       "      <td>64.457973</td>\n",
       "      <td>81.809122</td>\n",
       "      <td>47.306912</td>\n",
       "      <td>52.774850</td>\n",
       "      <td>39.409499</td>\n",
       "      <td>35.151009</td>\n",
       "      <td>...</td>\n",
       "      <td>4656.880334</td>\n",
       "      <td>3.814346e+10</td>\n",
       "      <td>5.582471e+07</td>\n",
       "      <td>0.0</td>\n",
       "      <td>300014.312500</td>\n",
       "      <td>11.173301</td>\n",
       "      <td>3.098055e+14</td>\n",
       "      <td>6.909585e+19</td>\n",
       "      <td>27426.243439</td>\n",
       "      <td>1.000000</td>\n",
       "    </tr>\n",
       "  </tbody>\n",
       "</table>\n",
       "<p>8 rows × 62 columns</p>\n",
       "</div>"
      ],
      "text/plain": [
       "           mfccs_0      mfccs_1      mfccs_2      mfccs_3      mfccs_4  \\\n",
       "count  1606.000000  1606.000000  1606.000000  1606.000000  1606.000000   \n",
       "mean    941.665095    75.003741     9.231527    50.089629     9.011473   \n",
       "std     225.061154    37.099307    35.261332    19.673425    23.210687   \n",
       "min     487.638894     0.590916   -95.650386     9.991572   -63.162621   \n",
       "25%     775.150225    46.703585   -14.839313    36.362204    -7.899532   \n",
       "50%     900.926968    74.069958    12.228716    49.900223    12.684427   \n",
       "75%    1095.790912   100.281783    35.329806    63.719153    28.028384   \n",
       "max    1572.073401   202.898203    98.485401   123.096246    64.457973   \n",
       "\n",
       "           mfccs_5      mfccs_6      mfccs_7      mfccs_8      mfccs_9  \\\n",
       "count  1606.000000  1606.000000  1606.000000  1606.000000  1606.000000   \n",
       "mean     33.163889    11.137501    21.313839    13.738046    14.940774   \n",
       "std      12.591131    14.331587     7.673028     8.545568     5.140691   \n",
       "min       5.273298   -38.585637     0.495500   -20.883890    -4.159762   \n",
       "25%      24.523875     2.047651    16.663696     9.773171    12.017408   \n",
       "50%      31.645115    14.229327    20.592639    15.489321    15.137249   \n",
       "75%      40.849423    22.416433    25.514643    19.247300    18.234024   \n",
       "max      81.809122    47.306912    52.774850    39.409499    35.151009   \n",
       "\n",
       "          ...         centiroid  max_amplitude  mean_amplitude  moment  \\\n",
       "count     ...       1606.000000   1.606000e+03    1.606000e+03  1606.0   \n",
       "mean      ...        620.513687   1.055193e+09    1.110251e+06     0.0   \n",
       "std       ...        737.102635   4.208591e+09    5.156415e+06     0.0   \n",
       "min       ...          3.609066   3.078643e+04    2.039792e+02     0.0   \n",
       "25%       ...        134.614808   1.197471e+06    3.374144e+03     0.0   \n",
       "50%       ...        319.441259   5.082282e+06    1.280547e+04     0.0   \n",
       "75%       ...        797.667762   2.041975e+08    2.653403e+05     0.0   \n",
       "max       ...       4656.880334   3.814346e+10    5.582471e+07     0.0   \n",
       "\n",
       "           variation         skew           var        autocr         kurto  \\\n",
       "count    1606.000000  1606.000000  1.606000e+03  1.606000e+03   1606.000000   \n",
       "mean      278.243072    -0.188070  3.743952e+12  5.021586e+17     31.972242   \n",
       "std      7662.201633     4.893058  2.781032e+13  4.202786e+18    763.247083   \n",
       "min    -18424.601562  -148.536407  1.145826e+00  1.647420e+08     -1.557898   \n",
       "25%        -0.564912    -0.066578  1.089125e+05  4.726152e+10     -0.056514   \n",
       "50%         0.114271    -0.004160  1.769261e+06  7.682032e+11      0.241702   \n",
       "75%         2.218386     0.057529  6.593582e+08  8.217131e+14      1.950677   \n",
       "max    300014.312500    11.173301  3.098055e+14  6.909585e+19  27426.243439   \n",
       "\n",
       "            target  \n",
       "count  1606.000000  \n",
       "mean      0.323163  \n",
       "std       0.467830  \n",
       "min       0.000000  \n",
       "25%       0.000000  \n",
       "50%       0.000000  \n",
       "75%       1.000000  \n",
       "max       1.000000  \n",
       "\n",
       "[8 rows x 62 columns]"
      ]
     },
     "execution_count": 5,
     "metadata": {},
     "output_type": "execute_result"
    }
   ],
   "source": [
    "df.describe()"
   ]
  },
  {
   "cell_type": "code",
   "execution_count": 18,
   "metadata": {},
   "outputs": [],
   "source": [
    "#viz.check_datatype()"
   ]
  },
  {
   "cell_type": "markdown",
   "metadata": {},
   "source": [
    "# Data Quality checks"
   ]
  },
  {
   "cell_type": "markdown",
   "metadata": {},
   "source": [
    "### Visualize missing data"
   ]
  },
  {
   "cell_type": "code",
   "execution_count": 19,
   "metadata": {},
   "outputs": [
    {
     "name": "stdout",
     "output_type": "stream",
     "text": [
      "False\n",
      "Looks like there is no any missing value\n"
     ]
    }
   ],
   "source": [
    "if (viz.check_null()):\n",
    "    viz.check_missing_value(start=50, end=100)\n",
    "else:\n",
    "    print('Looks like there is no any missing value')"
   ]
  },
  {
   "cell_type": "markdown",
   "metadata": {},
   "source": [
    "### Check class balance "
   ]
  },
  {
   "cell_type": "code",
   "execution_count": 20,
   "metadata": {
    "scrolled": true
   },
   "outputs": [
    {
     "name": "stdout",
     "output_type": "stream",
     "text": [
      "[ 0.  1.] [1087  519]\n"
     ]
    },
    {
     "data": {
      "image/png": "[encoded data removed]",
      "text/plain": [
       "<matplotlib.figure.Figure at 0x10b22d6d8>"
      ]
     },
     "metadata": {},
     "output_type": "display_data"
    }
   ],
   "source": [
    "viz.check_data_balance(target_column = -1)"
   ]
  },
  {
   "cell_type": "markdown",
   "metadata": {},
   "source": [
    "### Correlation among the features"
   ]
  },
  {
   "cell_type": "code",
   "execution_count": 59,
   "metadata": {},
   "outputs": [
    {
     "data": {
      "image/png": "[encoded data removed]",
      "text/plain": [
       "<matplotlib.figure.Figure at 0x10e4f1ac8>"
      ]
     },
     "metadata": {},
     "output_type": "display_data"
    }
   ],
   "source": [
    "plt.pcolor(df.corr())\n",
    "plt.colorbar()\n",
    "plt.grid('off')\n",
    "plt.show()"
   ]
  },
  {
   "cell_type": "markdown",
   "metadata": {},
   "source": [
    "## Scatterplot Matrix"
   ]
  },
  {
   "cell_type": "code",
   "execution_count": 7,
   "metadata": {},
   "outputs": [],
   "source": [
    "# sns.pairplot(df.loc[40:-1], hue=\"target\")"
   ]
  },
  {
   "cell_type": "markdown",
   "metadata": {},
   "source": [
    "### Preprocessing the data"
   ]
  },
  {
   "cell_type": "code",
   "execution_count": null,
   "metadata": {},
   "outputs": [],
   "source": [
    "Y = df['target']\n",
    "X = df.drop(['target'], axis=1)\n",
    "\n",
    "print(np.shape(X), np.shape(Y))\n",
    "\n",
    "X, Y = shuffle(X, Y, random_state = random_state)\n",
    "\n",
    "X_train, X_test, Y_train, Y_test = train_test_split(X, Y, test_size = 0.25, random_state=random_state)\n",
    "mms = StandardScaler()\n",
    "X_train = mms.fit_transform(X_train)\n",
    "X_test = mms.fit_transform(X_test)"
   ]
  },
  {
   "cell_type": "markdown",
   "metadata": {},
   "source": [
    "# Support Vector machine\n",
    "\n",
    "In machine learning, support vector machines (SVMs, also support vector networks) are supervised learning models with associated learning algorithms that analyze data used for classification and regression analysis. Given a set of training examples, each marked as belonging to one or the other of two categories, an SVM training algorithm builds a model that assigns new examples to one category or the other, making it a non-probabilistic binary linear classifier (although methods such as Platt scaling exist to use SVM in a probabilistic classification setting). An SVM model is a representation of the examples as points in space, mapped so that the examples of the separate categories are divided by a clear gap that is as wide as possible. New examples are then mapped into that same space and predicted to belong to a category based on which side of the gap they fall."
   ]
  },
  {
   "cell_type": "markdown",
   "metadata": {},
   "source": [
    "## Find best parameter using GridSearchCV\n",
    "\n",
    "Exhaustive search over specified parameter values for an estimator. GridSearchCV implements a “fit” and a “score” method. It also implements “predict”, “predict_proba”, “decision_function”, “transform” and “inverse_transform” if they are implemented in the estimator used. The parameters of the estimator used to apply these methods are optimized by cross-validated grid-search over a parameter grid."
   ]
  },
  {
   "cell_type": "code",
   "execution_count": 12,
   "metadata": {
    "collapsed": true
   },
   "outputs": [],
   "source": [
    "from sklearn import svm\n",
    "class_weight={0: 1, 1: 2}\n",
    "cv = StratifiedKFold(n_splits=10, shuffle=True, random_state = random_state)\n",
    "svm_clss = svm.SVC(class_weight = class_weight, random_state = random_state) \n",
    "\n",
    "svm_params = {\n",
    "    'C': [100, 200, 250, 300, 350, 400, 1000], \n",
    "    'gamma': [0.001, 0.008, 0.0003566, 0.0005, 0.01], \n",
    "    'kernel': ['rbf']\n",
    "}\n",
    "\n",
    "grid_clf = GridSearchCV(estimator = svm_clss, param_grid = svm_params, scoring = 'accuracy', cv = cv, n_jobs=-1)"
   ]
  },
  {
   "cell_type": "code",
   "execution_count": 13,
   "metadata": {},
   "outputs": [
    {
     "data": {
      "text/plain": [
       "GridSearchCV(cv=StratifiedKFold(n_splits=10, random_state=6, shuffle=True),\n",
       "       error_score='raise',\n",
       "       estimator=SVC(C=1.0, cache_size=200, class_weight={0: 1, 1: 2}, coef0=0.0,\n",
       "  decision_function_shape=None, degree=3, gamma='auto', kernel='rbf',\n",
       "  max_iter=-1, probability=False, random_state=6, shrinking=True,\n",
       "  tol=0.001, verbose=False),\n",
       "       fit_params={}, iid=True, n_jobs=1,\n",
       "       param_grid={'C': [100, 200, 250, 300, 350, 400, 1000], 'gamma': [0.001, 0.008, 0.0003566, 0.0005, 0.01], 'kernel': ['rbf']},\n",
       "       pre_dispatch='2*n_jobs', refit=True, return_train_score=True,\n",
       "       scoring='accuracy', verbose=0)"
      ]
     },
     "execution_count": 13,
     "metadata": {},
     "output_type": "execute_result"
    }
   ],
   "source": [
    "grid_clf.fit(X_train, Y_train.astype(int))"
   ]
  },
  {
   "cell_type": "code",
   "execution_count": 14,
   "metadata": {},
   "outputs": [
    {
     "name": "stdout",
     "output_type": "stream",
     "text": [
      "{'C': 100, 'gamma': 0.008, 'kernel': 'rbf'}\n",
      "0.882890365449\n",
      "SVC(C=100, cache_size=200, class_weight={0: 1, 1: 2}, coef0=0.0,\n",
      "  decision_function_shape=None, degree=3, gamma=0.008, kernel='rbf',\n",
      "  max_iter=-1, probability=False, random_state=6, shrinking=True,\n",
      "  tol=0.001, verbose=False)\n"
     ]
    }
   ],
   "source": [
    "print(grid_clf.best_params_)\n",
    "print(grid_clf.best_score_)\n",
    "print(grid_clf.best_estimator_)"
   ]
  },
  {
   "cell_type": "markdown",
   "metadata": {},
   "source": [
    "## Use grid searched best parameters to make final model "
   ]
  },
  {
   "cell_type": "code",
   "execution_count": 15,
   "metadata": {
    "scrolled": true
   },
   "outputs": [
    {
     "name": "stdout",
     "output_type": "stream",
     "text": [
      "1. The accuracy of the model is 0.8756218905472637\n",
      "\n",
      "2. Classification report \n",
      "              precision    recall  f1-score   support\n",
      "\n",
      "        0.0       0.92      0.89      0.91       276\n",
      "        1.0       0.78      0.83      0.81       126\n",
      "\n",
      "avg / total       0.88      0.88      0.88       402\n",
      " \n",
      "\n",
      "3. Confusion matrix \n",
      " [[247  21]\n",
      " [ 29 105]] \n",
      "\n",
      "4. Roc_Auc score \n",
      " 0.8526119402985075\n"
     ]
    }
   ],
   "source": [
    "from sklearn import svm\n",
    "svm_model = svm.SVC(C=100, cache_size=200, class_weight={0: 1, 1: 2}, coef0=0.0,\n",
    "  decision_function_shape=None, degree=3, gamma=0.008, kernel='rbf',\n",
    "  max_iter=-1, probability=False, random_state=6, shrinking=True,\n",
    "  tol=0.001, verbose=False)\n",
    "\n",
    "svm_model.fit(X_train, Y_train)\n",
    "Y_pred = svm_model.predict(X_test)\n",
    "\n",
    "print('1. The accuracy of the model is {}\\n'.format(accuracy_score(Y_test, Y_pred)))\n",
    "print('2. Classification report \\n {} \\n'.format(classification_report(Y_test, Y_pred)))\n",
    "print('3. Confusion matrix \\n {} \\n'.format(confusion_matrix(Y_pred, Y_test)))\n",
    "print('4. Roc_Auc score \\n {}'.format(roc_auc_score(Y_pred, Y_test)))"
   ]
  },
  {
   "cell_type": "markdown",
   "metadata": {},
   "source": [
    "## Learning curve to check if more data is required to improve performance\n",
    "\n",
    "In this step of the project, I will check the learning curve of the support vector machine. A learning curve shows the validation and training score of an estimator for varying numbers of training samples. It is a tool to find out how much we benefit from adding more training data and whether the estimator suffers more from a variance error or a bias error. If both the validation score and the training score converge to a value that is too low with increasing size of the training set, we will not benefit much from more training data. If the training score is much higher than the validation score for the maximum number of training samples, adding more training samples will most likely increase generalization. In the following plot of SVM estimator, we see that the model could benefit from more training examples. We have to add training data to get improved performance."
   ]
  },
  {
   "cell_type": "code",
   "execution_count": 33,
   "metadata": {},
   "outputs": [
    {
     "data": {
      "image/png": "[encoded data removed]",
      "text/plain": [
       "<matplotlib.figure.Figure at 0x10e994d68>"
      ]
     },
     "metadata": {},
     "output_type": "display_data"
    }
   ],
   "source": [
    "%reload_ext autoreload\n",
    "%autoreload 2\n",
    "import visuals as vs\n",
    "vz = vs.vizualization(df)\n",
    "vz.check_model_learning(X_train, Y_train, svm_model)"
   ]
  },
  {
   "cell_type": "markdown",
   "metadata": {},
   "source": [
    "## Bagging of SVM\n",
    "\n",
    "In this bagging classification ithe above SVM model is the meta-estimator that fits base classifiers each on random subsets of the original dataset and then aggregate their individual predictions (either by voting or by averaging) to form a final prediction. Such a meta-estimator can typically be used as a way to reduce the variance of a black-box estimator, by introducing randomization into its construction procedure and then making an ensemble out of it."
   ]
  },
  {
   "cell_type": "code",
   "execution_count": 34,
   "metadata": {},
   "outputs": [
    {
     "data": {
      "text/plain": [
       "BaggingClassifier(base_estimator=SVC(C=100, cache_size=200, class_weight={0: 1, 1: 2}, coef0=0.0,\n",
       "  decision_function_shape=None, degree=3, gamma=0.008, kernel='rbf',\n",
       "  max_iter=-1, probability=False, random_state=6, shrinking=True,\n",
       "  tol=0.001, verbose=False),\n",
       "         bootstrap=True, bootstrap_features=False, max_features=1.0,\n",
       "         max_samples=0.4, n_estimators=20, n_jobs=-1, oob_score=False,\n",
       "         random_state=None, verbose=0, warm_start=False)"
      ]
     },
     "execution_count": 34,
     "metadata": {},
     "output_type": "execute_result"
    }
   ],
   "source": [
    "from sklearn.ensemble import BaggingClassifier\n",
    "bagging_svm = BaggingClassifier(svm_model, max_samples=0.4, n_estimators=20, n_jobs=-1)\n",
    "bagging_svm.fit(X_train, Y_train.astype(int))"
   ]
  },
  {
   "cell_type": "code",
   "execution_count": 35,
   "metadata": {},
   "outputs": [
    {
     "name": "stdout",
     "output_type": "stream",
     "text": [
      "1. The accuracy of the model is 0.8557213930348259\n",
      "\n",
      "2. Classification report \n",
      "              precision    recall  f1-score   support\n",
      "\n",
      "        0.0       0.88      0.91      0.90       276\n",
      "        1.0       0.79      0.73      0.76       126\n",
      "\n",
      "avg / total       0.85      0.86      0.85       402\n",
      " \n",
      "\n",
      "3. Confusion matrix \n",
      " [[252  34]\n",
      " [ 24  92]] \n",
      "\n",
      "4. Roc_Auc score \n",
      " 0.8371111646973716\n"
     ]
    }
   ],
   "source": [
    "Y_pred = bagging_svm.predict(X_test)\n",
    "\n",
    "print('1. The accuracy of the model is {}\\n'.format(accuracy_score(Y_test, Y_pred)))\n",
    "print('2. Classification report \\n {} \\n'.format(classification_report(Y_test, Y_pred)))\n",
    "print('3. Confusion matrix \\n {} \\n'.format(confusion_matrix(Y_pred, Y_test)))\n",
    "print('4. Roc_Auc score \\n {}'.format(roc_auc_score(Y_pred, Y_test)))"
   ]
  },
  {
   "cell_type": "code",
   "execution_count": null,
   "metadata": {
    "collapsed": true
   },
   "outputs": [],
   "source": []
  }
 ],
 "metadata": {
  "kernelspec": {
   "display_name": "Python 3",
   "language": "python",
   "name": "python3"
  },
  "language_info": {
   "codemirror_mode": {
    "name": "ipython",
    "version": 3
   },
   "file_extension": ".py",
   "mimetype": "text/x-python",
   "name": "python",
   "nbconvert_exporter": "python",
   "pygments_lexer": "ipython3",
   "version": "3.6.1"
  }
 },
 "nbformat": 4,
 "nbformat_minor": 2
}
