{
 "cells": [
  {
   "cell_type": "code",
   "execution_count": 1,
   "metadata": {
    "collapsed": true
   },
   "outputs": [],
   "source": [
    "%matplotlib inline\n",
    "import numpy as np\n",
    "import pandas as pd\n",
    "import matplotlib.pyplot as plt\n",
    "from sklearn.utils import shuffle\n",
    "from sklearn.preprocessing import StandardScaler\n",
    "from sklearn.model_selection import StratifiedKFold, GridSearchCV\n",
    "from sklearn.metrics import accuracy_score, confusion_matrix, classification_report, roc_auc_score\n",
    "from sklearn.model_selection import train_test_split\n",
    "import warnings\n",
    "import sys, os\n",
    "\n",
    "warnings.filterwarnings('ignore')\n",
    "random_state = 6\n",
    "np.random.seed(random_state)"
   ]
  },
  {
   "cell_type": "code",
   "execution_count": 2,
   "metadata": {
    "collapsed": true
   },
   "outputs": [],
   "source": [
    "dir_path = '../../pipeline_modules/'\n",
    "sys.path.append(dir_path)"
   ]
  },
  {
   "cell_type": "code",
   "execution_count": 10,
   "metadata": {},
   "outputs": [
    {
     "name": "stdout",
     "output_type": "stream",
     "text": [
      "Index(['mfccs_0', 'mfccs_1', 'mfccs_2', 'mfccs_3', 'mfccs_4', 'mfccs_5',\n",
      "       'mfccs_6', 'mfccs_7', 'mfccs_8', 'mfccs_9', 'mfccs_10', 'mfccs_11',\n",
      "       'mfccs_12', 'mfccs_13', 'mfccs_14', 'mfccs_15', 'mfccs_16', 'mfccs_17',\n",
      "       'mfccs_18', 'mfccs_19', 'mfccs_20', 'mfccs_21', 'mfccs_22', 'mfccs_23',\n",
      "       'mfccs_24', 'mfccs_25', 'mfccs_26', 'mfccs_27', 'mfccs_28', 'mfccs_29',\n",
      "       'mfccs_30', 'mfccs_31', 'mfccs_32', 'mfccs_33', 'mfccs_34', 'mfccs_35',\n",
      "       'mfccs_36', 'mfccs_37', 'mfccs_38', 'mfccs_39', 'chroma_0', 'chroma_1',\n",
      "       'chroma_2', 'chroma_3', 'chroma_4', 'chroma_5', 'chroma_6', 'chroma_7',\n",
      "       'chroma_8', 'chroma_9', 'chroma_10', 'chroma_11', 'centiroid',\n",
      "       'max_amplitude', 'mean_amplitude', 'moment', 'variation', 'skew', 'var',\n",
      "       'autocr', 'kurto', 'target'],\n",
      "      dtype='object')\n"
     ]
    }
   ],
   "source": [
    "import visuals as vs\n",
    "# filename1 = 'seismogram_data_62.csv'\n",
    "# filename = 'seismogram_data_62_new_mfccs_delta.csv'\n",
    "# filename = 'seismogram_data_62_new_amplitude.csv'\n",
    "filename = 'seismogram_data_62_new.csv'\n",
    "# df_old = pd.read_csv(filename1)\n",
    "df = pd.read_csv(filename)\n",
    "print(df.columns)"
   ]
  },
  {
   "cell_type": "markdown",
   "metadata": {},
   "source": [
    "### Preprocessing the data"
   ]
  },
  {
   "cell_type": "code",
   "execution_count": 11,
   "metadata": {},
   "outputs": [
    {
     "name": "stdout",
     "output_type": "stream",
     "text": [
      "(23496, 61) (23496,)\n"
     ]
    }
   ],
   "source": [
    "Y = df['target']\n",
    "X = df.drop(['target'], axis=1)\n",
    "\n",
    "# x_new_old = df_old.drop(['target'], axis=1)\n",
    "\n",
    "print(np.shape(X), np.shape(Y))\n",
    "\n",
    "X, Y = shuffle(X, Y, random_state = random_state)\n",
    "\n",
    "X_train, X_test, Y_train, Y_test = train_test_split(X, Y, test_size = 0.20, random_state=random_state)\n",
    "mms = StandardScaler()\n",
    "X_train = mms.fit_transform(X_train)\n",
    "X_test = mms.fit_transform(X_test)\n",
    "\n",
    "# X_test = mms.fit_transform(x_new_old)\n",
    "# Y_test = df_old['target']"
   ]
  },
  {
   "cell_type": "markdown",
   "metadata": {},
   "source": [
    "# Support Vector machine\n",
    "\n",
    "In machine learning, support vector machines (SVMs, also support vector networks) are supervised learning models with associated learning algorithms that analyze data used for classification and regression analysis. Given a set of training examples, each marked as belonging to one or the other of two categories, an SVM training algorithm builds a model that assigns new examples to one category or the other, making it a non-probabilistic binary linear classifier (although methods such as Platt scaling exist to use SVM in a probabilistic classification setting). An SVM model is a representation of the examples as points in space, mapped so that the examples of the separate categories are divided by a clear gap that is as wide as possible. New examples are then mapped into that same space and predicted to belong to a category based on which side of the gap they fall."
   ]
  },
  {
   "cell_type": "markdown",
   "metadata": {},
   "source": [
    "## Find best parameter using GridSearchCV\n",
    "\n",
    "Exhaustive search over specified parameter values for an estimator. GridSearchCV implements a “fit” and a “score” method. It also implements “predict”, “predict_proba”, “decision_function”, “transform” and “inverse_transform” if they are implemented in the estimator used. The parameters of the estimator used to apply these methods are optimized by cross-validated grid-search over a parameter grid."
   ]
  },
  {
   "cell_type": "code",
   "execution_count": 9,
   "metadata": {
    "collapsed": true
   },
   "outputs": [],
   "source": [
    "from sklearn import svm\n",
    "class_weight={0: 1, 1: 2}\n",
    "cv = StratifiedKFold(n_splits=10, shuffle=True, random_state = random_state)\n",
    "svm_clss = svm.SVC(class_weight = class_weight, random_state = random_state) \n",
    "\n",
    "svm_params = {\n",
    "    'C': [3, 4, 5, 6], \n",
    "    'gamma': [0.8, 0.08, 0.008, 0.0005], \n",
    "}\n",
    "\n",
    "grid_clf = GridSearchCV(estimator = svm_clss, param_grid = svm_params, scoring = 'accuracy', cv = cv, n_jobs=-1)"
   ]
  },
  {
   "cell_type": "code",
   "execution_count": 10,
   "metadata": {},
   "outputs": [
    {
     "data": {
      "text/plain": [
       "GridSearchCV(cv=StratifiedKFold(n_splits=10, random_state=6, shuffle=True),\n",
       "       error_score='raise',\n",
       "       estimator=SVC(C=1.0, cache_size=200, class_weight={0: 1, 1: 2}, coef0=0.0,\n",
       "  decision_function_shape=None, degree=3, gamma='auto', kernel='rbf',\n",
       "  max_iter=-1, probability=False, random_state=6, shrinking=True,\n",
       "  tol=0.001, verbose=False),\n",
       "       fit_params={}, iid=True, n_jobs=-1,\n",
       "       param_grid={'C': [3, 4, 5, 6], 'gamma': [0.8, 0.08, 0.008, 0.0008]},\n",
       "       pre_dispatch='2*n_jobs', refit=True, return_train_score=True,\n",
       "       scoring='accuracy', verbose=0)"
      ]
     },
     "execution_count": 10,
     "metadata": {},
     "output_type": "execute_result"
    }
   ],
   "source": [
    "grid_clf.fit(X_train, Y_train.astype(int))"
   ]
  },
  {
   "cell_type": "code",
   "execution_count": 11,
   "metadata": {},
   "outputs": [
    {
     "name": "stdout",
     "output_type": "stream",
     "text": [
      "{'C': 5, 'gamma': 0.08}\n",
      "0.842679293467\n",
      "SVC(C=5, cache_size=200, class_weight={0: 1, 1: 2}, coef0=0.0,\n",
      "  decision_function_shape=None, degree=3, gamma=0.08, kernel='rbf',\n",
      "  max_iter=-1, probability=False, random_state=6, shrinking=True,\n",
      "  tol=0.001, verbose=False)\n"
     ]
    }
   ],
   "source": [
    "print(grid_clf.best_params_)\n",
    "print(grid_clf.best_score_)\n",
    "print(grid_clf.best_estimator_)"
   ]
  },
  {
   "cell_type": "markdown",
   "metadata": {},
   "source": [
    "## Use best parameters to make final model "
   ]
  },
  {
   "cell_type": "code",
   "execution_count": 16,
   "metadata": {
    "scrolled": true
   },
   "outputs": [
    {
     "name": "stdout",
     "output_type": "stream",
     "text": [
      "[LibSVM]1. The accuracy of the model is 0.8470212765957447\n",
      "\n",
      "2. Classification report \n",
      "              precision    recall  f1-score   support\n",
      "\n",
      "        0.0       0.85      0.88      0.86      2567\n",
      "        1.0       0.85      0.81      0.83      2133\n",
      "\n",
      "avg / total       0.85      0.85      0.85      4700\n",
      " \n",
      "\n",
      "3. Confusion matrix \n",
      " [[2256  408]\n",
      " [ 311 1725]] \n",
      "\n",
      "4. Roc_Auc score \n",
      " 0.8470481778438557\n"
     ]
    }
   ],
   "source": [
    "from sklearn import svm\n",
    "\n",
    "svm_model = svm.SVC(C=4, cache_size=200, coef0=0.0,\n",
    "  decision_function_shape=None, degree=3, gamma=0.08, kernel='rbf',\n",
    "  max_iter=-1, probability=False, random_state = random_state, shrinking=True,\n",
    "  tol=0.001, verbose=True)\n",
    "\n",
    "svm_model.fit(X_train, Y_train)\n",
    "Y_pred = svm_model.predict(X_test)\n",
    "\n",
    "print('1. The accuracy of the model is {}\\n'.format(accuracy_score(Y_test, Y_pred)))\n",
    "print('2. Classification report \\n {} \\n'.format(classification_report(Y_test, Y_pred)))\n",
    "print('3. Confusion matrix \\n {} \\n'.format(confusion_matrix(Y_pred, Y_test)))\n",
    "print('4. Roc_Auc score \\n {}'.format(roc_auc_score(Y_pred, Y_test)))"
   ]
  },
  {
   "cell_type": "markdown",
   "metadata": {},
   "source": [
    "## Refinement history"
   ]
  },
  {
   "cell_type": "markdown",
   "metadata": {},
   "source": [
    "<table style=\"border: 1px solid black;\">\n",
    "  <tr>\n",
    "    <th>Step</th>\n",
    "    <th>Method</th> \n",
    "    <th>Description</th>\n",
    "    <th>Number of Features</th>\n",
    "    <th>Accuracuy</th>\n",
    "    <th>Pos Recall</th>\n",
    "    <th>Pos F1 score</th>\n",
    "    <th>ROC score</th>\n",
    "  </tr>\n",
    "  \n",
    "  <tr>\n",
    "    <td>Step 0</td>\n",
    "    <td>Benchmark</td> \n",
    "    <td>At this step I used five of supervised algorithoms to find out the best one that gives highest model performance. I have found Support vector machine is the one gives best model performances interms of accuracy, Recall, F-1 and ROC score.</td>\n",
    "     <td>61</td>\n",
    "    <td>77%</td> \n",
    "    <td>77%</td>\n",
    "    <td>76%</td>\n",
    "    <td>77.5%</td> \n",
    "  </tr>\n",
    "  \n",
    "  <tr>\n",
    "    <td>Step 1</td>\n",
    "    <td>Grid search</td> \n",
    "    <td>After I select SVM as the model towards final solution, I used scikit-sklearn GridSearcgCV model to find best C and gamma parameters. After exhaustive search with many hours, the best C and gamma are 4.0 and 0.08</td>\n",
    "     <td>61</td>\n",
    "    <td>84.5%</td> \n",
    "    <td>81%</td>\n",
    "    <td>81%</td>\n",
    "    <td>84.5%</td> \n",
    "  </tr>\n",
    "  \n",
    "    <tr>\n",
    "    <td>Step 2.1 </td>\n",
    "    <td>Feature engineering</td> \n",
    "    <td>At this stage, I work with feature manipulations. I have tried adding some extra features like amplitude of the signal, mel coefficients etc. BUt the did not improve.</td>\n",
    "     <td>61-1285</td>\n",
    "    <td>84.50% - 75.00%</td> \n",
    "    <td>81.00% - 74.00%</td>\n",
    "    <td>81.00% - 78.00%</td>\n",
    "    <td>84.50% -69.00% </td> \n",
    "  </tr>\n",
    "</table>"
   ]
  },
  {
   "cell_type": "markdown",
   "metadata": {},
   "source": [
    "## Learning curve to check if more data is required to improve performance\n",
    "\n",
    "In this step of the project, I will check the learning curve of the support vector machine. A learning curve shows the validation and training score of an estimator for varying numbers of training samples. It is a tool to find out how much we benefit from adding more training data and whether the estimator suffers more from a variance error or a bias error. If both the validation score and the training score converge to a value that is too low with increasing size of the training set, we will not benefit much from more training data. If the training score is much higher than the validation score for the maximum number of training samples, adding more training samples will most likely increase generalization. In the following plot of SVM estimator, we see that the model could benefit from more training examples. We have to add training data to get improved performance."
   ]
  },
  {
   "cell_type": "code",
   "execution_count": 17,
   "metadata": {},
   "outputs": [
    {
     "data": {
      "image/png": "[encoded data removed]",
      "text/plain": [
       "<matplotlib.figure.Figure at 0x114887780>"
      ]
     },
     "metadata": {},
     "output_type": "display_data"
    }
   ],
   "source": [
    "%reload_ext autoreload\n",
    "%autoreload 2\n",
    "import visuals as vs\n",
    "vz = vs.vizualization(df)\n",
    "vz.check_model_learning(X_train, Y_train, svm_model)"
   ]
  },
  {
   "cell_type": "markdown",
   "metadata": {},
   "source": [
    "## Bagging of SVM\n",
    "\n",
    "In this bagging classification ithe above SVM model is the meta-estimator that fits base classifiers each on random subsets of the original dataset and then aggregate their individual predictions (either by voting or by averaging) to form a final prediction. Such a meta-estimator can typically be used as a way to reduce the variance of a black-box estimator, by introducing randomization into its construction procedure and then making an ensemble out of it."
   ]
  },
  {
   "cell_type": "code",
   "execution_count": 130,
   "metadata": {},
   "outputs": [
    {
     "data": {
      "text/plain": [
       "BaggingClassifier(base_estimator=SVC(C=100, cache_size=200, class_weight='balanced', coef0=0.0,\n",
       "  decision_function_shape=None, degree=3, gamma=0.01, kernel='rbf',\n",
       "  max_iter=-1, probability=False, random_state=6, shrinking=True,\n",
       "  tol=0.001, verbose=False),\n",
       "         bootstrap=True, bootstrap_features=False, max_features=1.0,\n",
       "         max_samples=0.4, n_estimators=100, n_jobs=-1, oob_score=False,\n",
       "         random_state=None, verbose=0, warm_start=False)"
      ]
     },
     "execution_count": 130,
     "metadata": {},
     "output_type": "execute_result"
    }
   ],
   "source": [
    "from sklearn.ensemble import BaggingClassifier\n",
    "bagging_svm = BaggingClassifier(svm_model, max_samples=0.4, n_estimators=100, n_jobs=-1)\n",
    "bagging_svm.fit(X_train, Y_train.astype(int))"
   ]
  },
  {
   "cell_type": "code",
   "execution_count": 131,
   "metadata": {},
   "outputs": [
    {
     "name": "stdout",
     "output_type": "stream",
     "text": [
      "1. The accuracy of the model is 0.7919148936170213\n",
      "\n",
      "2. Classification report \n",
      "              precision    recall  f1-score   support\n",
      "\n",
      "        0.0       0.82      0.80      0.81      2629\n",
      "        1.0       0.76      0.78      0.77      2071\n",
      "\n",
      "avg / total       0.79      0.79      0.79      4700\n",
      " \n",
      "\n",
      "3. Confusion matrix \n",
      " [[2106  455]\n",
      " [ 523 1616]] \n",
      "\n",
      "4. Roc_Auc score \n",
      " 0.7889141232560403\n"
     ]
    }
   ],
   "source": [
    "Y_pred = bagging_svm.predict(X_test)\n",
    "\n",
    "print('1. The accuracy of the model is {}\\n'.format(accuracy_score(Y_test, Y_pred)))\n",
    "print('2. Classification report \\n {} \\n'.format(classification_report(Y_test, Y_pred)))\n",
    "print('3. Confusion matrix \\n {} \\n'.format(confusion_matrix(Y_pred, Y_test)))\n",
    "print('4. Roc_Auc score \\n {}'.format(roc_auc_score(Y_pred, Y_test)))"
   ]
  },
  {
   "cell_type": "code",
   "execution_count": null,
   "metadata": {
    "collapsed": true
   },
   "outputs": [],
   "source": []
  }
 ],
 "metadata": {
  "kernelspec": {
   "display_name": "Python 3",
   "language": "python",
   "name": "python3"
  },
  "language_info": {
   "codemirror_mode": {
    "name": "ipython",
    "version": 3
   },
   "file_extension": ".py",
   "mimetype": "text/x-python",
   "name": "python",
   "nbconvert_exporter": "python",
   "pygments_lexer": "ipython3",
   "version": "3.6.1"
  }
 },
 "nbformat": 4,
 "nbformat_minor": 2
}
