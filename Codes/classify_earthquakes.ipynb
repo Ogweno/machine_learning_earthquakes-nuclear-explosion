{
 "cells": [
  {
   "cell_type": "code",
   "execution_count": 7,
   "metadata": {
    "collapsed": true
   },
   "outputs": [],
   "source": [
    "%matplotlib inline\n",
    "import numpy as np\n",
    "import scipy as sp\n",
    "import scipy.signal as signal\n",
    "import pandas as pd\n",
    "import matplotlib.pyplot as plt\n",
    "from sklearn.utils import shuffle\n",
    "from sklearn.preprocessing import StandardScaler\n",
    "from sklearn.ensemble import RandomForestClassifier\n",
    "from sklearn.model_selection import StratifiedKFold, GridSearchCV\n",
    "from sklearn.metrics import accuracy_score, confusion_matrix, classification_report, roc_auc_score\n",
    "from sklearn.model_selection import train_test_split\n",
    "from sklearn.utils import shuffle\n",
    "import seaborn as sns\n",
    "import warnings\n",
    "import sys, os\n",
    "\n",
    "warnings.filterwarnings('ignore')\n",
    "random_state = 6\n",
    "np.random.seed(random_state)"
   ]
  },
  {
   "cell_type": "code",
   "execution_count": 8,
   "metadata": {
    "collapsed": true
   },
   "outputs": [],
   "source": [
    "dir_path = '../../pipeline_modules/'\n",
    "sys.path.append(dir_path)"
   ]
  },
  {
   "cell_type": "code",
   "execution_count": 82,
   "metadata": {
    "collapsed": true
   },
   "outputs": [],
   "source": [
    "import visuals as vs\n",
    "filename = 'seismogram_data_cents_db.csv'\n",
    "df = pd.read_csv(filename)\n",
    "viz = vs.vizualization(df)"
   ]
  },
  {
   "cell_type": "markdown",
   "metadata": {},
   "source": [
    "## Basic statistics"
   ]
  },
  {
   "cell_type": "code",
   "execution_count": 4,
   "metadata": {},
   "outputs": [
    {
     "data": {
      "text/html": [
       "<div>\n",
       "<style>\n",
       "    .dataframe thead tr:only-child th {\n",
       "        text-align: right;\n",
       "    }\n",
       "\n",
       "    .dataframe thead th {\n",
       "        text-align: left;\n",
       "    }\n",
       "\n",
       "    .dataframe tbody tr th {\n",
       "        vertical-align: top;\n",
       "    }\n",
       "</style>\n",
       "<table border=\"1\" class=\"dataframe\">\n",
       "  <thead>\n",
       "    <tr style=\"text-align: right;\">\n",
       "      <th></th>\n",
       "      <th>Unnamed: 0</th>\n",
       "      <th>0</th>\n",
       "      <th>1</th>\n",
       "      <th>2</th>\n",
       "      <th>3</th>\n",
       "      <th>4</th>\n",
       "      <th>5</th>\n",
       "      <th>6</th>\n",
       "      <th>7</th>\n",
       "      <th>8</th>\n",
       "      <th>...</th>\n",
       "      <th>1202</th>\n",
       "      <th>1203</th>\n",
       "      <th>1204</th>\n",
       "      <th>1205</th>\n",
       "      <th>1206</th>\n",
       "      <th>1207</th>\n",
       "      <th>1208</th>\n",
       "      <th>1209</th>\n",
       "      <th>1210</th>\n",
       "      <th>1211</th>\n",
       "    </tr>\n",
       "  </thead>\n",
       "  <tbody>\n",
       "    <tr>\n",
       "      <th>count</th>\n",
       "      <td>1606.000000</td>\n",
       "      <td>1606.000000</td>\n",
       "      <td>1606.000000</td>\n",
       "      <td>1606.000000</td>\n",
       "      <td>1606.000000</td>\n",
       "      <td>1606.000000</td>\n",
       "      <td>1606.000000</td>\n",
       "      <td>1606.000000</td>\n",
       "      <td>1606.000000</td>\n",
       "      <td>1606.000000</td>\n",
       "      <td>...</td>\n",
       "      <td>1606.000000</td>\n",
       "      <td>1606.000000</td>\n",
       "      <td>1606.000000</td>\n",
       "      <td>1606.0</td>\n",
       "      <td>1606.000000</td>\n",
       "      <td>1606.000000</td>\n",
       "      <td>1.606000e+03</td>\n",
       "      <td>1.606000e+03</td>\n",
       "      <td>1606.000000</td>\n",
       "      <td>1606.000000</td>\n",
       "    </tr>\n",
       "    <tr>\n",
       "      <th>mean</th>\n",
       "      <td>451.221669</td>\n",
       "      <td>941.665095</td>\n",
       "      <td>75.003741</td>\n",
       "      <td>9.231527</td>\n",
       "      <td>50.089629</td>\n",
       "      <td>9.011473</td>\n",
       "      <td>33.163889</td>\n",
       "      <td>11.137501</td>\n",
       "      <td>21.313839</td>\n",
       "      <td>13.738046</td>\n",
       "      <td>...</td>\n",
       "      <td>-79.980776</td>\n",
       "      <td>-79.979309</td>\n",
       "      <td>-79.978603</td>\n",
       "      <td>0.0</td>\n",
       "      <td>278.243072</td>\n",
       "      <td>-0.188070</td>\n",
       "      <td>3.743952e+12</td>\n",
       "      <td>5.021586e+17</td>\n",
       "      <td>31.972242</td>\n",
       "      <td>0.323163</td>\n",
       "    </tr>\n",
       "    <tr>\n",
       "      <th>std</th>\n",
       "      <td>302.649662</td>\n",
       "      <td>225.061154</td>\n",
       "      <td>37.099307</td>\n",
       "      <td>35.261332</td>\n",
       "      <td>19.673425</td>\n",
       "      <td>23.210687</td>\n",
       "      <td>12.591131</td>\n",
       "      <td>14.331587</td>\n",
       "      <td>7.673028</td>\n",
       "      <td>8.545568</td>\n",
       "      <td>...</td>\n",
       "      <td>0.190952</td>\n",
       "      <td>0.217414</td>\n",
       "      <td>0.185078</td>\n",
       "      <td>0.0</td>\n",
       "      <td>7662.201633</td>\n",
       "      <td>4.893058</td>\n",
       "      <td>2.781032e+13</td>\n",
       "      <td>4.202786e+18</td>\n",
       "      <td>763.247083</td>\n",
       "      <td>0.467830</td>\n",
       "    </tr>\n",
       "    <tr>\n",
       "      <th>min</th>\n",
       "      <td>0.000000</td>\n",
       "      <td>487.638894</td>\n",
       "      <td>0.590916</td>\n",
       "      <td>-95.650386</td>\n",
       "      <td>9.991572</td>\n",
       "      <td>-63.162621</td>\n",
       "      <td>5.273298</td>\n",
       "      <td>-38.585637</td>\n",
       "      <td>0.495500</td>\n",
       "      <td>-20.883890</td>\n",
       "      <td>...</td>\n",
       "      <td>-80.000008</td>\n",
       "      <td>-80.000008</td>\n",
       "      <td>-80.000008</td>\n",
       "      <td>0.0</td>\n",
       "      <td>-18424.601562</td>\n",
       "      <td>-148.536407</td>\n",
       "      <td>1.145826e+00</td>\n",
       "      <td>1.647420e+08</td>\n",
       "      <td>-1.557898</td>\n",
       "      <td>0.000000</td>\n",
       "    </tr>\n",
       "    <tr>\n",
       "      <th>25%</th>\n",
       "      <td>200.250000</td>\n",
       "      <td>775.150225</td>\n",
       "      <td>46.703585</td>\n",
       "      <td>-14.839313</td>\n",
       "      <td>36.362204</td>\n",
       "      <td>-7.899532</td>\n",
       "      <td>24.523875</td>\n",
       "      <td>2.047651</td>\n",
       "      <td>16.663696</td>\n",
       "      <td>9.773171</td>\n",
       "      <td>...</td>\n",
       "      <td>-80.000000</td>\n",
       "      <td>-80.000000</td>\n",
       "      <td>-80.000000</td>\n",
       "      <td>0.0</td>\n",
       "      <td>-0.564912</td>\n",
       "      <td>-0.066578</td>\n",
       "      <td>1.089125e+05</td>\n",
       "      <td>4.726152e+10</td>\n",
       "      <td>-0.056514</td>\n",
       "      <td>0.000000</td>\n",
       "    </tr>\n",
       "    <tr>\n",
       "      <th>50%</th>\n",
       "      <td>401.000000</td>\n",
       "      <td>900.926968</td>\n",
       "      <td>74.069958</td>\n",
       "      <td>12.228716</td>\n",
       "      <td>49.900223</td>\n",
       "      <td>12.684427</td>\n",
       "      <td>31.645115</td>\n",
       "      <td>14.229327</td>\n",
       "      <td>20.592639</td>\n",
       "      <td>15.489321</td>\n",
       "      <td>...</td>\n",
       "      <td>-80.000000</td>\n",
       "      <td>-80.000000</td>\n",
       "      <td>-80.000000</td>\n",
       "      <td>0.0</td>\n",
       "      <td>0.114271</td>\n",
       "      <td>-0.004160</td>\n",
       "      <td>1.769261e+06</td>\n",
       "      <td>7.682032e+11</td>\n",
       "      <td>0.241702</td>\n",
       "      <td>0.000000</td>\n",
       "    </tr>\n",
       "    <tr>\n",
       "      <th>75%</th>\n",
       "      <td>684.750000</td>\n",
       "      <td>1095.790912</td>\n",
       "      <td>100.281783</td>\n",
       "      <td>35.329806</td>\n",
       "      <td>63.719153</td>\n",
       "      <td>28.028384</td>\n",
       "      <td>40.849423</td>\n",
       "      <td>22.416433</td>\n",
       "      <td>25.514643</td>\n",
       "      <td>19.247300</td>\n",
       "      <td>...</td>\n",
       "      <td>-80.000000</td>\n",
       "      <td>-80.000000</td>\n",
       "      <td>-80.000000</td>\n",
       "      <td>0.0</td>\n",
       "      <td>2.218386</td>\n",
       "      <td>0.057529</td>\n",
       "      <td>6.593582e+08</td>\n",
       "      <td>8.217131e+14</td>\n",
       "      <td>1.950677</td>\n",
       "      <td>1.000000</td>\n",
       "    </tr>\n",
       "    <tr>\n",
       "      <th>max</th>\n",
       "      <td>1086.000000</td>\n",
       "      <td>1572.073401</td>\n",
       "      <td>202.898203</td>\n",
       "      <td>98.485401</td>\n",
       "      <td>123.096246</td>\n",
       "      <td>64.457973</td>\n",
       "      <td>81.809122</td>\n",
       "      <td>47.306912</td>\n",
       "      <td>52.774850</td>\n",
       "      <td>39.409499</td>\n",
       "      <td>...</td>\n",
       "      <td>-73.452782</td>\n",
       "      <td>-72.382477</td>\n",
       "      <td>-74.135483</td>\n",
       "      <td>0.0</td>\n",
       "      <td>300014.312500</td>\n",
       "      <td>11.173301</td>\n",
       "      <td>3.098055e+14</td>\n",
       "      <td>6.909585e+19</td>\n",
       "      <td>27426.243439</td>\n",
       "      <td>1.000000</td>\n",
       "    </tr>\n",
       "  </tbody>\n",
       "</table>\n",
       "<p>8 rows × 1213 columns</p>\n",
       "</div>"
      ],
      "text/plain": [
       "        Unnamed: 0            0            1            2            3  \\\n",
       "count  1606.000000  1606.000000  1606.000000  1606.000000  1606.000000   \n",
       "mean    451.221669   941.665095    75.003741     9.231527    50.089629   \n",
       "std     302.649662   225.061154    37.099307    35.261332    19.673425   \n",
       "min       0.000000   487.638894     0.590916   -95.650386     9.991572   \n",
       "25%     200.250000   775.150225    46.703585   -14.839313    36.362204   \n",
       "50%     401.000000   900.926968    74.069958    12.228716    49.900223   \n",
       "75%     684.750000  1095.790912   100.281783    35.329806    63.719153   \n",
       "max    1086.000000  1572.073401   202.898203    98.485401   123.096246   \n",
       "\n",
       "                 4            5            6            7            8  \\\n",
       "count  1606.000000  1606.000000  1606.000000  1606.000000  1606.000000   \n",
       "mean      9.011473    33.163889    11.137501    21.313839    13.738046   \n",
       "std      23.210687    12.591131    14.331587     7.673028     8.545568   \n",
       "min     -63.162621     5.273298   -38.585637     0.495500   -20.883890   \n",
       "25%      -7.899532    24.523875     2.047651    16.663696     9.773171   \n",
       "50%      12.684427    31.645115    14.229327    20.592639    15.489321   \n",
       "75%      28.028384    40.849423    22.416433    25.514643    19.247300   \n",
       "max      64.457973    81.809122    47.306912    52.774850    39.409499   \n",
       "\n",
       "          ...              1202         1203         1204    1205  \\\n",
       "count     ...       1606.000000  1606.000000  1606.000000  1606.0   \n",
       "mean      ...        -79.980776   -79.979309   -79.978603     0.0   \n",
       "std       ...          0.190952     0.217414     0.185078     0.0   \n",
       "min       ...        -80.000008   -80.000008   -80.000008     0.0   \n",
       "25%       ...        -80.000000   -80.000000   -80.000000     0.0   \n",
       "50%       ...        -80.000000   -80.000000   -80.000000     0.0   \n",
       "75%       ...        -80.000000   -80.000000   -80.000000     0.0   \n",
       "max       ...        -73.452782   -72.382477   -74.135483     0.0   \n",
       "\n",
       "                1206         1207          1208          1209          1210  \\\n",
       "count    1606.000000  1606.000000  1.606000e+03  1.606000e+03   1606.000000   \n",
       "mean      278.243072    -0.188070  3.743952e+12  5.021586e+17     31.972242   \n",
       "std      7662.201633     4.893058  2.781032e+13  4.202786e+18    763.247083   \n",
       "min    -18424.601562  -148.536407  1.145826e+00  1.647420e+08     -1.557898   \n",
       "25%        -0.564912    -0.066578  1.089125e+05  4.726152e+10     -0.056514   \n",
       "50%         0.114271    -0.004160  1.769261e+06  7.682032e+11      0.241702   \n",
       "75%         2.218386     0.057529  6.593582e+08  8.217131e+14      1.950677   \n",
       "max    300014.312500    11.173301  3.098055e+14  6.909585e+19  27426.243439   \n",
       "\n",
       "              1211  \n",
       "count  1606.000000  \n",
       "mean      0.323163  \n",
       "std       0.467830  \n",
       "min       0.000000  \n",
       "25%       0.000000  \n",
       "50%       0.000000  \n",
       "75%       1.000000  \n",
       "max       1.000000  \n",
       "\n",
       "[8 rows x 1213 columns]"
      ]
     },
     "execution_count": 4,
     "metadata": {},
     "output_type": "execute_result"
    }
   ],
   "source": [
    "df.describe()"
   ]
  },
  {
   "cell_type": "code",
   "execution_count": 6,
   "metadata": {
    "collapsed": true
   },
   "outputs": [],
   "source": [
    "# viz.check_datatype()"
   ]
  },
  {
   "cell_type": "markdown",
   "metadata": {},
   "source": [
    "# Data Quality checks"
   ]
  },
  {
   "cell_type": "markdown",
   "metadata": {},
   "source": [
    "### Visualize missing data"
   ]
  },
  {
   "cell_type": "code",
   "execution_count": 9,
   "metadata": {},
   "outputs": [
    {
     "name": "stdout",
     "output_type": "stream",
     "text": [
      "False\n",
      "Looks like there is no any missing value\n"
     ]
    }
   ],
   "source": [
    "if (viz.check_null()):\n",
    "    viz.check_missing_value(start=50, end=100)\n",
    "else:\n",
    "    print('Looks like there is no any missing value')"
   ]
  },
  {
   "cell_type": "markdown",
   "metadata": {},
   "source": [
    "### Check class balance "
   ]
  },
  {
   "cell_type": "code",
   "execution_count": 10,
   "metadata": {
    "scrolled": true
   },
   "outputs": [
    {
     "name": "stdout",
     "output_type": "stream",
     "text": [
      "[ 0.  1.] [1087  519]\n"
     ]
    },
    {
     "data": {
      "image/png": "[encoded data removed]",
      "text/plain": [
       "<matplotlib.figure.Figure at 0x10ff983c8>"
      ]
     },
     "metadata": {},
     "output_type": "display_data"
    }
   ],
   "source": [
    "viz.check_data_balance(target_column = -1)"
   ]
  },
  {
   "cell_type": "markdown",
   "metadata": {},
   "source": [
    "### Show correlation among the features"
   ]
  },
  {
   "cell_type": "code",
   "execution_count": 12,
   "metadata": {
    "collapsed": true
   },
   "outputs": [],
   "source": [
    "# plt.imshow(df.corr())\n",
    "# plt.colorbar()\n",
    "# plt.grid('off')\n",
    "# plt.show()"
   ]
  },
  {
   "cell_type": "markdown",
   "metadata": {},
   "source": [
    "### Calculate PCA and see if the data are distinguishable"
   ]
  },
  {
   "cell_type": "code",
   "execution_count": 112,
   "metadata": {
    "collapsed": true
   },
   "outputs": [],
   "source": [
    "X = df.iloc[:,:df.shape[1]-1]\n",
    "Y = df.iloc[:,-1]\n",
    "\n",
    "X, Y = shuffle(X, Y, random_state = random_state)\n",
    "\n",
    "X_train, X_test, Y_train, Y_test = train_test_split(X, Y, test_size = 0.25, random_state=random_state)\n",
    "mms = StandardScaler()\n",
    "X_train = mms.fit_transform(X_train)\n",
    "X_test = mms.fit_transform(X_test)"
   ]
  },
  {
   "cell_type": "markdown",
   "metadata": {},
   "source": [
    "## Bias-Variance tradeoff : Learning Curves "
   ]
  },
  {
   "cell_type": "code",
   "execution_count": null,
   "metadata": {
    "collapsed": true
   },
   "outputs": [],
   "source": []
  },
  {
   "cell_type": "markdown",
   "metadata": {},
   "source": [
    "## Validation Curves for Assessing Meta Parameter Values"
   ]
  },
  {
   "cell_type": "markdown",
   "metadata": {},
   "source": [
    "## Grid search for four algorithoms :\n",
    "1. Random Forest classifier\n",
    "2. Xgboot\n",
    "3. LightGBM\n",
    "4. Support vector machine"
   ]
  },
  {
   "cell_type": "code",
   "execution_count": 35,
   "metadata": {
    "collapsed": true
   },
   "outputs": [],
   "source": [
    "%reload_ext autoreload\n",
    "%autoreload 2\n",
    "import gridsearch as gs\n",
    "mgs = gs.GridSearch(X_train, Y_train)"
   ]
  },
  {
   "cell_type": "code",
   "execution_count": null,
   "metadata": {
    "collapsed": true
   },
   "outputs": [],
   "source": [
    "# perfomr grid search for the above algorithoms\n",
    "mgs.create_gridclfs()"
   ]
  },
  {
   "cell_type": "code",
   "execution_count": 121,
   "metadata": {},
   "outputs": [
    {
     "data": {
      "text/plain": [
       "LGBMClassifier(boosting_type='gbdt', colsample_bytree=1.0, learning_rate=0.5,\n",
       "        max_bin=255, max_depth=-1, min_child_samples=10,\n",
       "        min_child_weight=5, min_data_in_leaf=10, min_split_gain=0.0,\n",
       "        n_estimators=10, n_jobs=-1, num_leaves=20, objective=None,\n",
       "        random_state=0, reg_alpha=0.0, reg_lambda=0.0, silent=True,\n",
       "        subsample=1.0, subsample_for_bin=50000, subsample_freq=1)"
      ]
     },
     "execution_count": 121,
     "metadata": {},
     "output_type": "execute_result"
    }
   ],
   "source": [
    "import lightgbm as lgb\n",
    "\n",
    "lgbm_model = lgb.LGBMClassifier(boosting_type='gbdt', colsample_bytree=1.0, learning_rate=0.5,\n",
    "        max_bin=255, max_depth=-1, min_child_samples=10,\n",
    "        min_child_weight=5, min_data_in_leaf=10, min_split_gain=0.0,\n",
    "        n_estimators=10, n_jobs=-1, num_leaves=20, objective=None,\n",
    "        random_state=0, reg_alpha=0.0, reg_lambda=0.0, silent=True,\n",
    "        subsample=1.0, subsample_for_bin=50000, subsample_freq=1)\n",
    "lgbm_model.fit(X_train, Y_train)"
   ]
  },
  {
   "cell_type": "code",
   "execution_count": 122,
   "metadata": {},
   "outputs": [
    {
     "name": "stdout",
     "output_type": "stream",
     "text": [
      "1. The accuracy of the model is 0.7885572139303483\n",
      "\n",
      "2. Classification report \n",
      "              precision    recall  f1-score   support\n",
      "\n",
      "        0.0       0.77      0.98      0.86       276\n",
      "        1.0       0.90      0.37      0.52       126\n",
      "\n",
      "avg / total       0.81      0.79      0.76       402\n",
      " \n",
      "\n",
      "3. Confusion matrix \n",
      " [[271  80]\n",
      " [  5  46]] \n",
      "\n",
      "4. Roc_Auc score \n",
      " 0.8370202781967487\n"
     ]
    }
   ],
   "source": [
    "Y_pred = lgbm_model.predict(X_test)\n",
    "\n",
    "print('1. The accuracy of the model is {}\\n'.format(accuracy_score(Y_test, Y_pred)))\n",
    "print('2. Classification report \\n {} \\n'.format(classification_report(Y_test, Y_pred)))\n",
    "print('3. Confusion matrix \\n {} \\n'.format(confusion_matrix(Y_pred, Y_test)))\n",
    "print('4. Roc_Auc score \\n {}'.format(roc_auc_score(Y_pred, Y_test)))"
   ]
  },
  {
   "cell_type": "markdown",
   "metadata": {},
   "source": [
    "## Xgboost model"
   ]
  },
  {
   "cell_type": "code",
   "execution_count": 40,
   "metadata": {},
   "outputs": [
    {
     "data": {
      "text/plain": [
       "XGBClassifier(base_score=0.5, booster='gbtree', colsample_bylevel=1,\n",
       "       colsample_bytree=0.7, gamma=0, learning_rate=0.1, max_delta_step=0,\n",
       "       max_depth=5, min_child_weight=11, missing=-999, n_estimators=2000,\n",
       "       n_jobs=1, nthread=4, objective='binary:logistic', random_state=0,\n",
       "       reg_alpha=0, reg_lambda=1, scale_pos_weight=1, seed=1337, silent=1,\n",
       "       subsample=0.8)"
      ]
     },
     "execution_count": 40,
     "metadata": {},
     "output_type": "execute_result"
    }
   ],
   "source": [
    "import xgboost as xgb \n",
    "xgb_model = xgb.XGBClassifier(base_score=0.5, booster='gbtree', colsample_bylevel=1,\n",
    "       colsample_bytree=0.7, gamma=0, learning_rate=0.10, max_delta_step=0,\n",
    "       max_depth=5, min_child_weight=11, missing=-999, n_estimators=2000,\n",
    "       n_jobs=1, nthread=4, objective='binary:logistic', random_state=0,\n",
    "       reg_alpha=0, reg_lambda=1, scale_pos_weight=1, seed=1337, silent=1,\n",
    "       subsample=0.8)\n",
    "\n",
    "xgb_model.fit(X_train, Y_train)"
   ]
  },
  {
   "cell_type": "code",
   "execution_count": 41,
   "metadata": {
    "scrolled": true
   },
   "outputs": [
    {
     "name": "stdout",
     "output_type": "stream",
     "text": [
      "1. The accuracy of the model is 0.8606965174129353\n",
      "\n",
      "2. Classification report \n",
      "              precision    recall  f1-score   support\n",
      "\n",
      "        0.0       0.88      0.92      0.90       276\n",
      "        1.0       0.81      0.73      0.77       126\n",
      "\n",
      "avg / total       0.86      0.86      0.86       402\n",
      " \n",
      "\n",
      "3. Confusion matrix \n",
      " [[254  34]\n",
      " [ 22  92]] \n",
      "\n",
      "4. Roc_Auc score \n",
      " 0.8444809941520467\n"
     ]
    }
   ],
   "source": [
    "Y_pred = xgb_model.predict(X_test)\n",
    "\n",
    "print('1. The accuracy of the model is {}\\n'.format(accuracy_score(Y_test, Y_pred)))\n",
    "print('2. Classification report \\n {} \\n'.format(classification_report(Y_test, Y_pred)))\n",
    "print('3. Confusion matrix \\n {} \\n'.format(confusion_matrix(Y_pred, Y_test)))\n",
    "print('4. Roc_Auc score \\n {}'.format(roc_auc_score(Y_pred, Y_test)))"
   ]
  },
  {
   "cell_type": "markdown",
   "metadata": {},
   "source": [
    "## Random forest classifier"
   ]
  },
  {
   "cell_type": "code",
   "execution_count": 64,
   "metadata": {
    "collapsed": true
   },
   "outputs": [],
   "source": [
    "cv = StratifiedKFold(n_splits=10, shuffle=True, random_state=random_state)\n",
    "rfc = RandomForestClassifier(criterion='entropy', random_state = random_state, class_weight='balanced')\n",
    "params = {\n",
    "    'n_estimators': [10, 20, 50, 100],\n",
    "    'max_depth': [1, 2, 3, 4, 5],\n",
    "    'min_samples_split': [10, 20, 40, 50]\n",
    "}\n",
    "\n",
    "grid_clf = GridSearchCV(estimator = rfc, param_grid = params, scoring = 'accuracy', cv = cv)"
   ]
  },
  {
   "cell_type": "code",
   "execution_count": 65,
   "metadata": {},
   "outputs": [
    {
     "data": {
      "text/plain": [
       "GridSearchCV(cv=StratifiedKFold(n_splits=10, random_state=6, shuffle=True),\n",
       "       error_score='raise',\n",
       "       estimator=RandomForestClassifier(bootstrap=True, class_weight='balanced',\n",
       "            criterion='entropy', max_depth=None, max_features='auto',\n",
       "            max_leaf_nodes=None, min_impurity_split=1e-07,\n",
       "            min_samples_leaf=1, min_samples_split=2,\n",
       "            min_weight_fraction_leaf=0.0, n_estimators=10, n_jobs=1,\n",
       "            oob_score=False, random_state=6, verbose=0, warm_start=False),\n",
       "       fit_params={}, iid=True, n_jobs=1,\n",
       "       param_grid={'n_estimators': [10, 20, 50, 100], 'max_depth': [1, 2, 3, 4, 5], 'min_samples_split': [10, 20, 40, 50]},\n",
       "       pre_dispatch='2*n_jobs', refit=True, return_train_score=True,\n",
       "       scoring='accuracy', verbose=0)"
      ]
     },
     "execution_count": 65,
     "metadata": {},
     "output_type": "execute_result"
    }
   ],
   "source": [
    "# we have to find out best optimized parameters\n",
    "grid_clf.fit(X_train, Y_train.astype(int))"
   ]
  },
  {
   "cell_type": "code",
   "execution_count": 128,
   "metadata": {},
   "outputs": [
    {
     "name": "stdout",
     "output_type": "stream",
     "text": [
      "1. The accuracy of the model is 0.8009950248756219\n",
      "\n",
      "2. Classification report \n",
      "              precision    recall  f1-score   support\n",
      "\n",
      "        0.0       0.91      0.79      0.84       276\n",
      "        1.0       0.64      0.83      0.72       126\n",
      "\n",
      "avg / total       0.83      0.80      0.81       402\n",
      " \n",
      "\n",
      "3. Confusion matrix \n",
      " [[217  21]\n",
      " [ 59 105]] \n",
      "\n",
      "4. Roc_Auc score \n",
      " 0.7760043041606886\n"
     ]
    }
   ],
   "source": [
    "class_weight = {0:1, 1:2}\n",
    "model = RandomForestClassifier(bootstrap=True, class_weight=class_weight,\n",
    "            criterion='entropy', max_depth=4, max_features='auto',\n",
    "            max_leaf_nodes=None, min_impurity_split=1e-07,\n",
    "            min_samples_leaf=3, min_samples_split=10,\n",
    "            min_weight_fraction_leaf=0.0, n_estimators=100, n_jobs=1,\n",
    "            oob_score=False, random_state=random_state, verbose=0, warm_start=False)\n",
    "\n",
    "model.fit(X_train, Y_train)\n",
    "Y_pred = model.predict(X_test)\n",
    "\n",
    "print('1. The accuracy of the model is {}\\n'.format(accuracy_score(Y_test, Y_pred)))\n",
    "print('2. Classification report \\n {} \\n'.format(classification_report(Y_test, Y_pred)))\n",
    "print('3. Confusion matrix \\n {} \\n'.format(confusion_matrix(Y_pred, Y_test)))\n",
    "print('4. Roc_Auc score \\n {}'.format(roc_auc_score(Y_pred, Y_test)))"
   ]
  },
  {
   "cell_type": "code",
   "execution_count": 129,
   "metadata": {},
   "outputs": [
    {
     "data": {
      "image/png": "[encoded data removed]",
      "text/plain": [
       "<matplotlib.figure.Figure at 0x12158b128>"
      ]
     },
     "metadata": {},
     "output_type": "display_data"
    }
   ],
   "source": [
    "%reload_ext autoreload\n",
    "%autoreload 2\n",
    "import visuals as vs\n",
    "vz = vs.vizualization(df)\n",
    "vz.check_model_learning(X_train, Y_train, model)"
   ]
  },
  {
   "cell_type": "markdown",
   "metadata": {},
   "source": [
    "# Support Vector machine "
   ]
  },
  {
   "cell_type": "code",
   "execution_count": 67,
   "metadata": {},
   "outputs": [],
   "source": [
    "from sklearn import svm\n",
    "class_weight={0: 1, 1: 2}\n",
    "cv = StratifiedKFold(n_splits=10, shuffle=True, random_state = random_state)\n",
    "svm_clss = svm.SVC(class_weight = class_weight, random_state = random_state) \n",
    "\n",
    "svm_params = {\n",
    "    'C': [100, 200, 250, 300, 350, 400], \n",
    "    'gamma': [0.0003566], \n",
    "    'kernel': ['rbf']\n",
    "}\n",
    "\n",
    "grid_clf = GridSearchCV(estimator = svm_clss, param_grid = svm_params, scoring = 'accuracy', cv = cv)"
   ]
  },
  {
   "cell_type": "code",
   "execution_count": 68,
   "metadata": {},
   "outputs": [
    {
     "data": {
      "text/plain": [
       "GridSearchCV(cv=StratifiedKFold(n_splits=10, random_state=6, shuffle=True),\n",
       "       error_score='raise',\n",
       "       estimator=SVC(C=1.0, cache_size=200, class_weight={0: 1, 1: 2}, coef0=0.0,\n",
       "  decision_function_shape=None, degree=3, gamma='auto', kernel='rbf',\n",
       "  max_iter=-1, probability=False, random_state=6, shrinking=True,\n",
       "  tol=0.001, verbose=False),\n",
       "       fit_params={}, iid=True, n_jobs=1,\n",
       "       param_grid={'C': [100, 200, 250, 300, 350, 400], 'gamma': [0.0003566], 'kernel': ['rbf']},\n",
       "       pre_dispatch='2*n_jobs', refit=True, return_train_score=True,\n",
       "       scoring='accuracy', verbose=0)"
      ]
     },
     "execution_count": 68,
     "metadata": {},
     "output_type": "execute_result"
    }
   ],
   "source": [
    "grid_clf.fit(X_train, Y_train.astype(int))"
   ]
  },
  {
   "cell_type": "code",
   "execution_count": 69,
   "metadata": {},
   "outputs": [
    {
     "name": "stdout",
     "output_type": "stream",
     "text": [
      "{'C': 100, 'gamma': 0.0003566, 'kernel': 'rbf'}\n",
      "0.910299003322\n",
      "SVC(C=100, cache_size=200, class_weight={0: 1, 1: 2}, coef0=0.0,\n",
      "  decision_function_shape=None, degree=3, gamma=0.0003566, kernel='rbf',\n",
      "  max_iter=-1, probability=False, random_state=6, shrinking=True,\n",
      "  tol=0.001, verbose=False)\n"
     ]
    }
   ],
   "source": [
    "print(grid_clf.best_params_)\n",
    "print(grid_clf.best_score_)\n",
    "print(grid_clf.best_estimator_)"
   ]
  },
  {
   "cell_type": "code",
   "execution_count": 132,
   "metadata": {
    "scrolled": true
   },
   "outputs": [
    {
     "name": "stdout",
     "output_type": "stream",
     "text": [
      "1. The accuracy of the model is 0.927860696517413\n",
      "\n",
      "2. Classification report \n",
      "              precision    recall  f1-score   support\n",
      "\n",
      "        0.0       0.95      0.94      0.95       276\n",
      "        1.0       0.88      0.90      0.89       126\n",
      "\n",
      "avg / total       0.93      0.93      0.93       402\n",
      " \n",
      "\n",
      "3. Confusion matrix \n",
      " [[260  13]\n",
      " [ 16 113]] \n",
      "\n",
      "4. Roc_Auc score \n",
      " 0.9141749723145072\n"
     ]
    }
   ],
   "source": [
    "svm_model = svm.SVC(C=200, cache_size=200, class_weight={0: 1, 1: 2}, coef0=0.0,\n",
    "  decision_function_shape=None, degree=3, gamma=0.0003566, kernel='rbf',\n",
    "  max_iter=-1, probability=False, random_state=random_state, shrinking=True,\n",
    "  tol=0.001, verbose=False)\n",
    "\n",
    "svm_model.fit(X_train, Y_train)\n",
    "Y_pred = svm_model.predict(X_test)\n",
    "\n",
    "print('1. The accuracy of the model is {}\\n'.format(accuracy_score(Y_test, Y_pred)))\n",
    "print('2. Classification report \\n {} \\n'.format(classification_report(Y_test, Y_pred)))\n",
    "print('3. Confusion matrix \\n {} \\n'.format(confusion_matrix(Y_pred, Y_test)))\n",
    "print('4. Roc_Auc score \\n {}'.format(roc_auc_score(Y_pred, Y_test)))"
   ]
  },
  {
   "cell_type": "markdown",
   "metadata": {},
   "source": [
    "## Learning curve to check if more data is required to improve performance\n",
    "\n",
    "In this step of the project, I will check the learning curve of the support vector machine. A learning curve shows the validation and training score of an estimator for varying numbers of training samples. It is a tool to find out how much we benefit from adding more training data and whether the estimator suffers more from a variance error or a bias error. If both the validation score and the training score converge to a value that is too low with increasing size of the training set, we will not benefit much from more training data. If the training score is much higher than the validation score for the maximum number of training samples, adding more training samples will most likely increase generalization. In the following plot of SVM estimator, we see that the model could benefit from more training examples. We have to add training data to get improved performance."
   ]
  },
  {
   "cell_type": "code",
   "execution_count": 127,
   "metadata": {},
   "outputs": [
    {
     "data": {
      "image/png": "[encoded data removed]",
      "text/plain": [
       "<matplotlib.figure.Figure at 0x10a2c99b0>"
      ]
     },
     "metadata": {},
     "output_type": "display_data"
    }
   ],
   "source": [
    "%reload_ext autoreload\n",
    "%autoreload 2\n",
    "import visuals as vs\n",
    "vz = vs.vizualization(df)\n",
    "vz.check_model_learning(X_train, Y_train, svm_model)"
   ]
  },
  {
   "cell_type": "markdown",
   "metadata": {},
   "source": [
    "## Bagging of SVM"
   ]
  },
  {
   "cell_type": "code",
   "execution_count": 139,
   "metadata": {},
   "outputs": [
    {
     "data": {
      "text/plain": [
       "BaggingClassifier(base_estimator=SVC(C=200, cache_size=200, class_weight={0: 1, 1: 2}, coef0=0.0,\n",
       "  decision_function_shape=None, degree=3, gamma=0.0003566, kernel='rbf',\n",
       "  max_iter=-1, probability=False, random_state=6, shrinking=True,\n",
       "  tol=0.001, verbose=False),\n",
       "         bootstrap=True, bootstrap_features=False, max_features=1.0,\n",
       "         max_samples=0.4, n_estimators=20, n_jobs=-1, oob_score=False,\n",
       "         random_state=None, verbose=0, warm_start=False)"
      ]
     },
     "execution_count": 139,
     "metadata": {},
     "output_type": "execute_result"
    }
   ],
   "source": [
    "from sklearn.ensemble import BaggingClassifier\n",
    "bagging_svm = BaggingClassifier(svm_model, max_samples=0.4, n_estimators=20, n_jobs=-1)\n",
    "bagging_svm.fit(X_train, Y_train.astype(int))"
   ]
  },
  {
   "cell_type": "code",
   "execution_count": 140,
   "metadata": {},
   "outputs": [
    {
     "name": "stdout",
     "output_type": "stream",
     "text": [
      "1. The accuracy of the model is 0.8805970149253731\n",
      "\n",
      "2. Classification report \n",
      "              precision    recall  f1-score   support\n",
      "\n",
      "        0.0       0.91      0.92      0.91       276\n",
      "        1.0       0.81      0.80      0.81       126\n",
      "\n",
      "avg / total       0.88      0.88      0.88       402\n",
      " \n",
      "\n",
      "3. Confusion matrix \n",
      " [[253  25]\n",
      " [ 23 101]] \n",
      "\n",
      "4. Roc_Auc score \n",
      " 0.8622940357391505\n"
     ]
    }
   ],
   "source": [
    "Y_pred = bagging_svm.predict(X_test)\n",
    "\n",
    "print('1. The accuracy of the model is {}\\n'.format(accuracy_score(Y_test, Y_pred)))\n",
    "print('2. Classification report \\n {} \\n'.format(classification_report(Y_test, Y_pred)))\n",
    "print('3. Confusion matrix \\n {} \\n'.format(confusion_matrix(Y_pred, Y_test)))\n",
    "print('4. Roc_Auc score \\n {}'.format(roc_auc_score(Y_pred, Y_test)))"
   ]
  },
  {
   "cell_type": "code",
   "execution_count": null,
   "metadata": {
    "collapsed": true
   },
   "outputs": [],
   "source": []
  }
 ],
 "metadata": {
  "kernelspec": {
   "display_name": "Python 3",
   "language": "python",
   "name": "python3"
  },
  "language_info": {
   "codemirror_mode": {
    "name": "ipython",
    "version": 3
   },
   "file_extension": ".py",
   "mimetype": "text/x-python",
   "name": "python",
   "nbconvert_exporter": "python",
   "pygments_lexer": "ipython3",
   "version": "3.6.1"
  }
 },
 "nbformat": 4,
 "nbformat_minor": 2
}
