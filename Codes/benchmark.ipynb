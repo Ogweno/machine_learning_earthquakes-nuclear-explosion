{
 "cells": [
  {
   "cell_type": "code",
   "execution_count": 1,
   "metadata": {
    "collapsed": true
   },
   "outputs": [],
   "source": [
    "%matplotlib inline\n",
    "import numpy as np\n",
    "import scipy as sp\n",
    "import scipy.signal as signal\n",
    "import pandas as pd\n",
    "import matplotlib.pyplot as plt\n",
    "from sklearn.utils import shuffle\n",
    "from sklearn.preprocessing import StandardScaler\n",
    "from sklearn.ensemble import RandomForestClassifier\n",
    "from sklearn.model_selection import StratifiedKFold, GridSearchCV\n",
    "from sklearn.metrics import accuracy_score, confusion_matrix, classification_report, roc_auc_score\n",
    "from sklearn.model_selection import train_test_split\n",
    "from sklearn.utils import shuffle\n",
    "import seaborn as sns\n",
    "import warnings\n",
    "import sys, os\n",
    "\n",
    "warnings.filterwarnings('ignore')\n",
    "random_state = 6\n",
    "np.random.seed(random_state)"
   ]
  },
  {
   "cell_type": "code",
   "execution_count": 3,
   "metadata": {},
   "outputs": [],
   "source": [
    "filename = 'seismogram_data_62.csv'\n",
    "df = pd.read_csv(filename)"
   ]
  },
  {
   "cell_type": "code",
   "execution_count": 4,
   "metadata": {},
   "outputs": [
    {
     "data": {
      "text/html": [
       "<div>\n",
       "<style>\n",
       "    .dataframe thead tr:only-child th {\n",
       "        text-align: right;\n",
       "    }\n",
       "\n",
       "    .dataframe thead th {\n",
       "        text-align: left;\n",
       "    }\n",
       "\n",
       "    .dataframe tbody tr th {\n",
       "        vertical-align: top;\n",
       "    }\n",
       "</style>\n",
       "<table border=\"1\" class=\"dataframe\">\n",
       "  <thead>\n",
       "    <tr style=\"text-align: right;\">\n",
       "      <th></th>\n",
       "      <th>mfccs_0</th>\n",
       "      <th>mfccs_1</th>\n",
       "      <th>mfccs_2</th>\n",
       "      <th>mfccs_3</th>\n",
       "      <th>mfccs_4</th>\n",
       "      <th>mfccs_5</th>\n",
       "      <th>mfccs_6</th>\n",
       "      <th>mfccs_7</th>\n",
       "      <th>mfccs_8</th>\n",
       "      <th>mfccs_9</th>\n",
       "      <th>...</th>\n",
       "      <th>centiroid</th>\n",
       "      <th>max_amplitude</th>\n",
       "      <th>mean_amplitude</th>\n",
       "      <th>moment</th>\n",
       "      <th>variation</th>\n",
       "      <th>skew</th>\n",
       "      <th>var</th>\n",
       "      <th>autocr</th>\n",
       "      <th>kurto</th>\n",
       "      <th>target</th>\n",
       "    </tr>\n",
       "  </thead>\n",
       "  <tbody>\n",
       "    <tr>\n",
       "      <th>count</th>\n",
       "      <td>1606.000000</td>\n",
       "      <td>1606.000000</td>\n",
       "      <td>1606.000000</td>\n",
       "      <td>1606.000000</td>\n",
       "      <td>1606.000000</td>\n",
       "      <td>1606.000000</td>\n",
       "      <td>1606.000000</td>\n",
       "      <td>1606.000000</td>\n",
       "      <td>1606.000000</td>\n",
       "      <td>1606.000000</td>\n",
       "      <td>...</td>\n",
       "      <td>1606.000000</td>\n",
       "      <td>1.606000e+03</td>\n",
       "      <td>1.606000e+03</td>\n",
       "      <td>1606.0</td>\n",
       "      <td>1606.000000</td>\n",
       "      <td>1606.000000</td>\n",
       "      <td>1.606000e+03</td>\n",
       "      <td>1.606000e+03</td>\n",
       "      <td>1606.000000</td>\n",
       "      <td>1606.000000</td>\n",
       "    </tr>\n",
       "    <tr>\n",
       "      <th>mean</th>\n",
       "      <td>941.665095</td>\n",
       "      <td>75.003741</td>\n",
       "      <td>9.231527</td>\n",
       "      <td>50.089629</td>\n",
       "      <td>9.011473</td>\n",
       "      <td>33.163889</td>\n",
       "      <td>11.137501</td>\n",
       "      <td>21.313839</td>\n",
       "      <td>13.738046</td>\n",
       "      <td>14.940774</td>\n",
       "      <td>...</td>\n",
       "      <td>620.513687</td>\n",
       "      <td>1.055193e+09</td>\n",
       "      <td>1.110251e+06</td>\n",
       "      <td>0.0</td>\n",
       "      <td>278.243072</td>\n",
       "      <td>-0.188070</td>\n",
       "      <td>3.743952e+12</td>\n",
       "      <td>5.021586e+17</td>\n",
       "      <td>31.972242</td>\n",
       "      <td>0.323163</td>\n",
       "    </tr>\n",
       "    <tr>\n",
       "      <th>std</th>\n",
       "      <td>225.061154</td>\n",
       "      <td>37.099307</td>\n",
       "      <td>35.261332</td>\n",
       "      <td>19.673425</td>\n",
       "      <td>23.210687</td>\n",
       "      <td>12.591131</td>\n",
       "      <td>14.331587</td>\n",
       "      <td>7.673028</td>\n",
       "      <td>8.545568</td>\n",
       "      <td>5.140691</td>\n",
       "      <td>...</td>\n",
       "      <td>737.102635</td>\n",
       "      <td>4.208591e+09</td>\n",
       "      <td>5.156415e+06</td>\n",
       "      <td>0.0</td>\n",
       "      <td>7662.201633</td>\n",
       "      <td>4.893058</td>\n",
       "      <td>2.781032e+13</td>\n",
       "      <td>4.202786e+18</td>\n",
       "      <td>763.247083</td>\n",
       "      <td>0.467830</td>\n",
       "    </tr>\n",
       "    <tr>\n",
       "      <th>min</th>\n",
       "      <td>487.638894</td>\n",
       "      <td>0.590916</td>\n",
       "      <td>-95.650386</td>\n",
       "      <td>9.991572</td>\n",
       "      <td>-63.162621</td>\n",
       "      <td>5.273298</td>\n",
       "      <td>-38.585637</td>\n",
       "      <td>0.495500</td>\n",
       "      <td>-20.883890</td>\n",
       "      <td>-4.159762</td>\n",
       "      <td>...</td>\n",
       "      <td>3.609066</td>\n",
       "      <td>3.078643e+04</td>\n",
       "      <td>2.039792e+02</td>\n",
       "      <td>0.0</td>\n",
       "      <td>-18424.601562</td>\n",
       "      <td>-148.536407</td>\n",
       "      <td>1.145826e+00</td>\n",
       "      <td>1.647420e+08</td>\n",
       "      <td>-1.557898</td>\n",
       "      <td>0.000000</td>\n",
       "    </tr>\n",
       "    <tr>\n",
       "      <th>25%</th>\n",
       "      <td>775.150225</td>\n",
       "      <td>46.703585</td>\n",
       "      <td>-14.839313</td>\n",
       "      <td>36.362204</td>\n",
       "      <td>-7.899532</td>\n",
       "      <td>24.523875</td>\n",
       "      <td>2.047651</td>\n",
       "      <td>16.663696</td>\n",
       "      <td>9.773171</td>\n",
       "      <td>12.017408</td>\n",
       "      <td>...</td>\n",
       "      <td>134.614808</td>\n",
       "      <td>1.197471e+06</td>\n",
       "      <td>3.374144e+03</td>\n",
       "      <td>0.0</td>\n",
       "      <td>-0.564912</td>\n",
       "      <td>-0.066578</td>\n",
       "      <td>1.089125e+05</td>\n",
       "      <td>4.726152e+10</td>\n",
       "      <td>-0.056514</td>\n",
       "      <td>0.000000</td>\n",
       "    </tr>\n",
       "    <tr>\n",
       "      <th>50%</th>\n",
       "      <td>900.926968</td>\n",
       "      <td>74.069958</td>\n",
       "      <td>12.228716</td>\n",
       "      <td>49.900223</td>\n",
       "      <td>12.684427</td>\n",
       "      <td>31.645115</td>\n",
       "      <td>14.229327</td>\n",
       "      <td>20.592639</td>\n",
       "      <td>15.489321</td>\n",
       "      <td>15.137249</td>\n",
       "      <td>...</td>\n",
       "      <td>319.441259</td>\n",
       "      <td>5.082282e+06</td>\n",
       "      <td>1.280547e+04</td>\n",
       "      <td>0.0</td>\n",
       "      <td>0.114271</td>\n",
       "      <td>-0.004160</td>\n",
       "      <td>1.769261e+06</td>\n",
       "      <td>7.682032e+11</td>\n",
       "      <td>0.241702</td>\n",
       "      <td>0.000000</td>\n",
       "    </tr>\n",
       "    <tr>\n",
       "      <th>75%</th>\n",
       "      <td>1095.790912</td>\n",
       "      <td>100.281783</td>\n",
       "      <td>35.329806</td>\n",
       "      <td>63.719153</td>\n",
       "      <td>28.028384</td>\n",
       "      <td>40.849423</td>\n",
       "      <td>22.416433</td>\n",
       "      <td>25.514643</td>\n",
       "      <td>19.247300</td>\n",
       "      <td>18.234024</td>\n",
       "      <td>...</td>\n",
       "      <td>797.667762</td>\n",
       "      <td>2.041975e+08</td>\n",
       "      <td>2.653403e+05</td>\n",
       "      <td>0.0</td>\n",
       "      <td>2.218386</td>\n",
       "      <td>0.057529</td>\n",
       "      <td>6.593582e+08</td>\n",
       "      <td>8.217131e+14</td>\n",
       "      <td>1.950677</td>\n",
       "      <td>1.000000</td>\n",
       "    </tr>\n",
       "    <tr>\n",
       "      <th>max</th>\n",
       "      <td>1572.073401</td>\n",
       "      <td>202.898203</td>\n",
       "      <td>98.485401</td>\n",
       "      <td>123.096246</td>\n",
       "      <td>64.457973</td>\n",
       "      <td>81.809122</td>\n",
       "      <td>47.306912</td>\n",
       "      <td>52.774850</td>\n",
       "      <td>39.409499</td>\n",
       "      <td>35.151009</td>\n",
       "      <td>...</td>\n",
       "      <td>4656.880334</td>\n",
       "      <td>3.814346e+10</td>\n",
       "      <td>5.582471e+07</td>\n",
       "      <td>0.0</td>\n",
       "      <td>300014.312500</td>\n",
       "      <td>11.173301</td>\n",
       "      <td>3.098055e+14</td>\n",
       "      <td>6.909585e+19</td>\n",
       "      <td>27426.243439</td>\n",
       "      <td>1.000000</td>\n",
       "    </tr>\n",
       "  </tbody>\n",
       "</table>\n",
       "<p>8 rows × 62 columns</p>\n",
       "</div>"
      ],
      "text/plain": [
       "           mfccs_0      mfccs_1      mfccs_2      mfccs_3      mfccs_4  \\\n",
       "count  1606.000000  1606.000000  1606.000000  1606.000000  1606.000000   \n",
       "mean    941.665095    75.003741     9.231527    50.089629     9.011473   \n",
       "std     225.061154    37.099307    35.261332    19.673425    23.210687   \n",
       "min     487.638894     0.590916   -95.650386     9.991572   -63.162621   \n",
       "25%     775.150225    46.703585   -14.839313    36.362204    -7.899532   \n",
       "50%     900.926968    74.069958    12.228716    49.900223    12.684427   \n",
       "75%    1095.790912   100.281783    35.329806    63.719153    28.028384   \n",
       "max    1572.073401   202.898203    98.485401   123.096246    64.457973   \n",
       "\n",
       "           mfccs_5      mfccs_6      mfccs_7      mfccs_8      mfccs_9  \\\n",
       "count  1606.000000  1606.000000  1606.000000  1606.000000  1606.000000   \n",
       "mean     33.163889    11.137501    21.313839    13.738046    14.940774   \n",
       "std      12.591131    14.331587     7.673028     8.545568     5.140691   \n",
       "min       5.273298   -38.585637     0.495500   -20.883890    -4.159762   \n",
       "25%      24.523875     2.047651    16.663696     9.773171    12.017408   \n",
       "50%      31.645115    14.229327    20.592639    15.489321    15.137249   \n",
       "75%      40.849423    22.416433    25.514643    19.247300    18.234024   \n",
       "max      81.809122    47.306912    52.774850    39.409499    35.151009   \n",
       "\n",
       "          ...         centiroid  max_amplitude  mean_amplitude  moment  \\\n",
       "count     ...       1606.000000   1.606000e+03    1.606000e+03  1606.0   \n",
       "mean      ...        620.513687   1.055193e+09    1.110251e+06     0.0   \n",
       "std       ...        737.102635   4.208591e+09    5.156415e+06     0.0   \n",
       "min       ...          3.609066   3.078643e+04    2.039792e+02     0.0   \n",
       "25%       ...        134.614808   1.197471e+06    3.374144e+03     0.0   \n",
       "50%       ...        319.441259   5.082282e+06    1.280547e+04     0.0   \n",
       "75%       ...        797.667762   2.041975e+08    2.653403e+05     0.0   \n",
       "max       ...       4656.880334   3.814346e+10    5.582471e+07     0.0   \n",
       "\n",
       "           variation         skew           var        autocr         kurto  \\\n",
       "count    1606.000000  1606.000000  1.606000e+03  1.606000e+03   1606.000000   \n",
       "mean      278.243072    -0.188070  3.743952e+12  5.021586e+17     31.972242   \n",
       "std      7662.201633     4.893058  2.781032e+13  4.202786e+18    763.247083   \n",
       "min    -18424.601562  -148.536407  1.145826e+00  1.647420e+08     -1.557898   \n",
       "25%        -0.564912    -0.066578  1.089125e+05  4.726152e+10     -0.056514   \n",
       "50%         0.114271    -0.004160  1.769261e+06  7.682032e+11      0.241702   \n",
       "75%         2.218386     0.057529  6.593582e+08  8.217131e+14      1.950677   \n",
       "max    300014.312500    11.173301  3.098055e+14  6.909585e+19  27426.243439   \n",
       "\n",
       "            target  \n",
       "count  1606.000000  \n",
       "mean      0.323163  \n",
       "std       0.467830  \n",
       "min       0.000000  \n",
       "25%       0.000000  \n",
       "50%       0.000000  \n",
       "75%       1.000000  \n",
       "max       1.000000  \n",
       "\n",
       "[8 rows x 62 columns]"
      ]
     },
     "execution_count": 4,
     "metadata": {},
     "output_type": "execute_result"
    }
   ],
   "source": [
    "df.describe()"
   ]
  },
  {
   "cell_type": "code",
   "execution_count": 5,
   "metadata": {},
   "outputs": [
    {
     "name": "stdout",
     "output_type": "stream",
     "text": [
      "(1606, 61) (1606,)\n"
     ]
    }
   ],
   "source": [
    "Y = df['target']\n",
    "X = df.drop(['target'], axis=1)\n",
    "\n",
    "print(np.shape(X), np.shape(Y))\n",
    "\n",
    "X, Y = shuffle(X, Y, random_state = random_state)\n",
    "\n",
    "X_train, X_test, Y_train, Y_test = train_test_split(X, Y, test_size = 0.25, random_state=random_state)\n",
    "mms = StandardScaler()\n",
    "X_train = mms.fit_transform(X_train)\n",
    "X_test = mms.fit_transform(X_test)"
   ]
  },
  {
   "cell_type": "markdown",
   "metadata": {},
   "source": [
    "## LightGBM"
   ]
  },
  {
   "cell_type": "code",
   "execution_count": 6,
   "metadata": {},
   "outputs": [
    {
     "data": {
      "text/plain": [
       "LGBMClassifier(boosting_type='gbdt', colsample_bytree=1.0, learning_rate=0.5,\n",
       "        max_bin=255, max_depth=-1, min_child_samples=10,\n",
       "        min_child_weight=5, min_data_in_leaf=40, min_split_gain=0.0,\n",
       "        n_estimators=10, n_jobs=-1, num_leaves=20, objective=None,\n",
       "        random_state=0, reg_alpha=0.0, reg_lambda=0.0, silent=True,\n",
       "        subsample=1.0, subsample_for_bin=50000, subsample_freq=1)"
      ]
     },
     "execution_count": 6,
     "metadata": {},
     "output_type": "execute_result"
    }
   ],
   "source": [
    "import lightgbm as lgb\n",
    "\n",
    "lgbm_model = lgb.LGBMClassifier(boosting_type='gbdt', colsample_bytree=1.0, learning_rate=0.5,\n",
    "        max_bin=255, max_depth=-1, min_child_samples=10,\n",
    "        min_child_weight=5, min_data_in_leaf=40, min_split_gain=0.0,\n",
    "        n_estimators=10, n_jobs=-1, num_leaves=20, objective=None,\n",
    "        random_state=0, reg_alpha=0.0, reg_lambda=0.0, silent=True,\n",
    "        subsample=1.0, subsample_for_bin=50000, subsample_freq=1)\n",
    "\n",
    "lgbm_model.fit(X_train, Y_train)"
   ]
  },
  {
   "cell_type": "code",
   "execution_count": 7,
   "metadata": {},
   "outputs": [
    {
     "name": "stdout",
     "output_type": "stream",
     "text": [
      "1. The accuracy of the model is 0.7810945273631841\n",
      "\n",
      "2. Classification report \n",
      "              precision    recall  f1-score   support\n",
      "\n",
      "        0.0       0.79      0.93      0.85       276\n",
      "        1.0       0.74      0.46      0.57       126\n",
      "\n",
      "avg / total       0.78      0.78      0.76       402\n",
      " \n",
      "\n",
      "3. Confusion matrix \n",
      " [[256  68]\n",
      " [ 20  58]] \n",
      "\n",
      "4. Roc_Auc score \n",
      " 0.7668566001899335\n"
     ]
    }
   ],
   "source": [
    "Y_pred = lgbm_model.predict(X_test)\n",
    "\n",
    "print('1. The accuracy of the model is {}\\n'.format(accuracy_score(Y_test, Y_pred)))\n",
    "print('2. Classification report \\n {} \\n'.format(classification_report(Y_test, Y_pred)))\n",
    "print('3. Confusion matrix \\n {} \\n'.format(confusion_matrix(Y_pred, Y_test)))\n",
    "print('4. Roc_Auc score \\n {}'.format(roc_auc_score(Y_pred, Y_test)))"
   ]
  },
  {
   "cell_type": "markdown",
   "metadata": {},
   "source": [
    "## xgboost"
   ]
  },
  {
   "cell_type": "code",
   "execution_count": 9,
   "metadata": {},
   "outputs": [
    {
     "data": {
      "text/plain": [
       "XGBClassifier(base_score=0.5, booster='gbtree', colsample_bylevel=1,\n",
       "       colsample_bytree=0.7, gamma=0, learning_rate=0.1, max_delta_step=0,\n",
       "       max_depth=5, min_child_weight=11, missing=-999, n_estimators=2000,\n",
       "       n_jobs=1, nthread=4, objective='binary:logistic', random_state=0,\n",
       "       reg_alpha=0, reg_lambda=1, scale_pos_weight=1, seed=1337, silent=1,\n",
       "       subsample=0.8)"
      ]
     },
     "execution_count": 9,
     "metadata": {},
     "output_type": "execute_result"
    }
   ],
   "source": [
    "import xgboost as xgb \n",
    "xgb_model = xgb.XGBClassifier(base_score=0.5, booster='gbtree', colsample_bylevel=1,\n",
    "       colsample_bytree=0.7, gamma=0, learning_rate=0.10, max_delta_step=0,\n",
    "       max_depth=5, min_child_weight=11, missing=-999, n_estimators=2000,\n",
    "       n_jobs=1, nthread=4, objective='binary:logistic', random_state=0,\n",
    "       reg_alpha=0, reg_lambda=1, scale_pos_weight=1, seed=1337, silent=1,\n",
    "       subsample=0.8)\n",
    "\n",
    "xgb_model.fit(X_train, Y_train)"
   ]
  },
  {
   "cell_type": "code",
   "execution_count": 10,
   "metadata": {},
   "outputs": [
    {
     "name": "stdout",
     "output_type": "stream",
     "text": [
      "1. The accuracy of the model is 0.7985074626865671\n",
      "\n",
      "2. Classification report \n",
      "              precision    recall  f1-score   support\n",
      "\n",
      "        0.0       0.81      0.93      0.86       276\n",
      "        1.0       0.76      0.52      0.62       126\n",
      "\n",
      "avg / total       0.79      0.80      0.79       402\n",
      " \n",
      "\n",
      "3. Confusion matrix \n",
      " [[256  61]\n",
      " [ 20  65]] \n",
      "\n",
      "4. Roc_Auc score \n",
      " 0.786138430135461\n"
     ]
    }
   ],
   "source": [
    "Y_pred = xgb_model.predict(X_test)\n",
    "\n",
    "print('1. The accuracy of the model is {}\\n'.format(accuracy_score(Y_test, Y_pred)))\n",
    "print('2. Classification report \\n {} \\n'.format(classification_report(Y_test, Y_pred)))\n",
    "print('3. Confusion matrix \\n {} \\n'.format(confusion_matrix(Y_pred, Y_test)))\n",
    "print('4. Roc_Auc score \\n {}'.format(roc_auc_score(Y_pred, Y_test)))"
   ]
  },
  {
   "cell_type": "markdown",
   "metadata": {},
   "source": [
    "## Random forest classifier"
   ]
  },
  {
   "cell_type": "code",
   "execution_count": 17,
   "metadata": {},
   "outputs": [
    {
     "name": "stdout",
     "output_type": "stream",
     "text": [
      "1. The accuracy of the model is 0.7562189054726368\n",
      "\n",
      "2. Classification report \n",
      "              precision    recall  f1-score   support\n",
      "\n",
      "        0.0       0.76      0.93      0.84       276\n",
      "        1.0       0.71      0.37      0.49       126\n",
      "\n",
      "avg / total       0.75      0.76      0.73       402\n",
      " \n",
      "\n",
      "3. Confusion matrix \n",
      " [[257  79]\n",
      " [ 19  47]] \n",
      "\n",
      "4. Roc_Auc score \n",
      " 0.7385010822510822\n"
     ]
    }
   ],
   "source": [
    "rf_model = RandomForestClassifier()\n",
    "\n",
    "rf_model.fit(X_train, Y_train)\n",
    "Y_pred = rf_model.predict(X_test)\n",
    "\n",
    "print('1. The accuracy of the model is {}\\n'.format(accuracy_score(Y_test, Y_pred)))\n",
    "print('2. Classification report \\n {} \\n'.format(classification_report(Y_test, Y_pred)))\n",
    "print('3. Confusion matrix \\n {} \\n'.format(confusion_matrix(Y_pred, Y_test)))\n",
    "print('4. Roc_Auc score \\n {}'.format(roc_auc_score(Y_pred, Y_test)))"
   ]
  },
  {
   "cell_type": "markdown",
   "metadata": {},
   "source": [
    "## Gaussian Naive Bayes"
   ]
  },
  {
   "cell_type": "code",
   "execution_count": 18,
   "metadata": {},
   "outputs": [
    {
     "name": "stdout",
     "output_type": "stream",
     "text": [
      "1. The accuracy of the model is 0.6865671641791045\n",
      "\n",
      "2. Classification report \n",
      "              precision    recall  f1-score   support\n",
      "\n",
      "        0.0       0.69      1.00      0.81       276\n",
      "        1.0       0.50      0.01      0.02       126\n",
      "\n",
      "avg / total       0.63      0.69      0.56       402\n",
      " \n",
      "\n",
      "3. Confusion matrix \n",
      " [[275 125]\n",
      " [  1   1]] \n",
      "\n",
      "4. Roc_Auc score \n",
      " 0.59375\n"
     ]
    }
   ],
   "source": [
    "from sklearn.naive_bayes import GaussianNB\n",
    "gb_model = GaussianNB()\n",
    "\n",
    "gb_model.fit(X_train, Y_train)\n",
    "Y_pred = gb_model.predict(X_test)\n",
    "\n",
    "print('1. The accuracy of the model is {}\\n'.format(accuracy_score(Y_test, Y_pred)))\n",
    "print('2. Classification report \\n {} \\n'.format(classification_report(Y_test, Y_pred)))\n",
    "print('3. Confusion matrix \\n {} \\n'.format(confusion_matrix(Y_pred, Y_test)))\n",
    "print('4. Roc_Auc score \\n {}'.format(roc_auc_score(Y_pred, Y_test)))\n"
   ]
  },
  {
   "cell_type": "markdown",
   "metadata": {},
   "source": [
    "## Support Vector Machine"
   ]
  },
  {
   "cell_type": "code",
   "execution_count": 19,
   "metadata": {},
   "outputs": [
    {
     "name": "stdout",
     "output_type": "stream",
     "text": [
      "1. The accuracy of the model is 0.8507462686567164\n",
      "\n",
      "2. Classification report \n",
      "              precision    recall  f1-score   support\n",
      "\n",
      "        0.0       0.88      0.91      0.89       276\n",
      "        1.0       0.78      0.73      0.75       126\n",
      "\n",
      "avg / total       0.85      0.85      0.85       402\n",
      " \n",
      "\n",
      "3. Confusion matrix \n",
      " [[250  34]\n",
      " [ 26  92]] \n",
      "\n",
      "4. Roc_Auc score \n",
      " 0.8299713535449988\n"
     ]
    }
   ],
   "source": [
    "from sklearn import svm\n",
    "svm_model = svm.SVC()\n",
    "\n",
    "svm_model.fit(X_train, Y_train)\n",
    "Y_pred = svm_model.predict(X_test)\n",
    "\n",
    "print('1. The accuracy of the model is {}\\n'.format(accuracy_score(Y_test, Y_pred)))\n",
    "print('2. Classification report \\n {} \\n'.format(classification_report(Y_test, Y_pred)))\n",
    "print('3. Confusion matrix \\n {} \\n'.format(confusion_matrix(Y_pred, Y_test)))\n",
    "print('4. Roc_Auc score \\n {}'.format(roc_auc_score(Y_pred, Y_test)))"
   ]
  },
  {
   "cell_type": "code",
   "execution_count": null,
   "metadata": {
    "collapsed": true
   },
   "outputs": [],
   "source": []
  }
 ],
 "metadata": {
  "kernelspec": {
   "display_name": "Python 3",
   "language": "python",
   "name": "python3"
  },
  "language_info": {
   "codemirror_mode": {
    "name": "ipython",
    "version": 3
   },
   "file_extension": ".py",
   "mimetype": "text/x-python",
   "name": "python",
   "nbconvert_exporter": "python",
   "pygments_lexer": "ipython3",
   "version": "3.6.1"
  }
 },
 "nbformat": 4,
 "nbformat_minor": 2
}
