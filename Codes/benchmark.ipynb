{
 "cells": [
  {
   "cell_type": "code",
   "execution_count": 32,
   "metadata": {
    "collapsed": true
   },
   "outputs": [],
   "source": [
    "%matplotlib inline\n",
    "import numpy as np\n",
    "import scipy as sp\n",
    "import scipy.signal as signal\n",
    "import pandas as pd\n",
    "import matplotlib.pyplot as plt\n",
    "from sklearn.utils import shuffle\n",
    "from sklearn.preprocessing import StandardScaler\n",
    "from sklearn.ensemble import RandomForestClassifier\n",
    "from sklearn.model_selection import StratifiedKFold, GridSearchCV\n",
    "from sklearn.metrics import accuracy_score, confusion_matrix, classification_report, roc_auc_score\n",
    "from sklearn.model_selection import train_test_split\n",
    "from sklearn.utils import shuffle\n",
    "import seaborn as sns\n",
    "import warnings\n",
    "import sys, os\n",
    "\n",
    "warnings.filterwarnings('ignore')\n",
    "random_state = 6\n",
    "np.random.seed(random_state)"
   ]
  },
  {
   "cell_type": "code",
   "execution_count": 21,
   "metadata": {
    "collapsed": true
   },
   "outputs": [],
   "source": [
    "# filename = 'seismogram_data_62.csv'\n",
    "filename = 'seismogram_data_62_new.csv'\n",
    "df = pd.read_csv(filename)"
   ]
  },
  {
   "cell_type": "code",
   "execution_count": 22,
   "metadata": {},
   "outputs": [
    {
     "data": {
      "text/html": [
       "<div>\n",
       "<style>\n",
       "    .dataframe thead tr:only-child th {\n",
       "        text-align: right;\n",
       "    }\n",
       "\n",
       "    .dataframe thead th {\n",
       "        text-align: left;\n",
       "    }\n",
       "\n",
       "    .dataframe tbody tr th {\n",
       "        vertical-align: top;\n",
       "    }\n",
       "</style>\n",
       "<table border=\"1\" class=\"dataframe\">\n",
       "  <thead>\n",
       "    <tr style=\"text-align: right;\">\n",
       "      <th></th>\n",
       "      <th>mfccs_0</th>\n",
       "      <th>mfccs_1</th>\n",
       "      <th>mfccs_2</th>\n",
       "      <th>mfccs_3</th>\n",
       "      <th>mfccs_4</th>\n",
       "      <th>mfccs_5</th>\n",
       "      <th>mfccs_6</th>\n",
       "      <th>mfccs_7</th>\n",
       "      <th>mfccs_8</th>\n",
       "      <th>mfccs_9</th>\n",
       "      <th>...</th>\n",
       "      <th>centiroid</th>\n",
       "      <th>max_amplitude</th>\n",
       "      <th>mean_amplitude</th>\n",
       "      <th>moment</th>\n",
       "      <th>variation</th>\n",
       "      <th>skew</th>\n",
       "      <th>var</th>\n",
       "      <th>autocr</th>\n",
       "      <th>kurto</th>\n",
       "      <th>target</th>\n",
       "    </tr>\n",
       "  </thead>\n",
       "  <tbody>\n",
       "    <tr>\n",
       "      <th>count</th>\n",
       "      <td>23496.000000</td>\n",
       "      <td>23496.000000</td>\n",
       "      <td>23496.000000</td>\n",
       "      <td>23496.000000</td>\n",
       "      <td>23496.000000</td>\n",
       "      <td>23496.000000</td>\n",
       "      <td>23496.000000</td>\n",
       "      <td>23496.000000</td>\n",
       "      <td>23496.000000</td>\n",
       "      <td>23496.000000</td>\n",
       "      <td>...</td>\n",
       "      <td>23496.000000</td>\n",
       "      <td>2.349600e+04</td>\n",
       "      <td>2.349600e+04</td>\n",
       "      <td>23496.0</td>\n",
       "      <td>23496.000000</td>\n",
       "      <td>23496.000000</td>\n",
       "      <td>2.349600e+04</td>\n",
       "      <td>2.349600e+04</td>\n",
       "      <td>23496.000000</td>\n",
       "      <td>23496.000000</td>\n",
       "    </tr>\n",
       "    <tr>\n",
       "      <th>mean</th>\n",
       "      <td>842.505003</td>\n",
       "      <td>73.359982</td>\n",
       "      <td>-0.894606</td>\n",
       "      <td>52.395407</td>\n",
       "      <td>2.601928</td>\n",
       "      <td>34.513327</td>\n",
       "      <td>7.728752</td>\n",
       "      <td>22.589093</td>\n",
       "      <td>12.131532</td>\n",
       "      <td>15.490778</td>\n",
       "      <td>...</td>\n",
       "      <td>959.045374</td>\n",
       "      <td>2.471252e+08</td>\n",
       "      <td>3.094769e+05</td>\n",
       "      <td>0.0</td>\n",
       "      <td>18.969707</td>\n",
       "      <td>-0.032753</td>\n",
       "      <td>5.274213e+11</td>\n",
       "      <td>1.096999e+17</td>\n",
       "      <td>7.173602</td>\n",
       "      <td>0.448332</td>\n",
       "    </tr>\n",
       "    <tr>\n",
       "      <th>std</th>\n",
       "      <td>189.732512</td>\n",
       "      <td>38.111069</td>\n",
       "      <td>38.966119</td>\n",
       "      <td>19.352436</td>\n",
       "      <td>24.226235</td>\n",
       "      <td>12.969548</td>\n",
       "      <td>15.588723</td>\n",
       "      <td>9.172668</td>\n",
       "      <td>10.312101</td>\n",
       "      <td>6.988078</td>\n",
       "      <td>...</td>\n",
       "      <td>1024.497248</td>\n",
       "      <td>1.740120e+09</td>\n",
       "      <td>4.249657e+06</td>\n",
       "      <td>0.0</td>\n",
       "      <td>3913.459504</td>\n",
       "      <td>1.590172</td>\n",
       "      <td>2.553565e+13</td>\n",
       "      <td>3.697947e+18</td>\n",
       "      <td>211.110656</td>\n",
       "      <td>0.497334</td>\n",
       "    </tr>\n",
       "    <tr>\n",
       "      <th>min</th>\n",
       "      <td>480.726115</td>\n",
       "      <td>-87.232311</td>\n",
       "      <td>-198.422667</td>\n",
       "      <td>-32.555981</td>\n",
       "      <td>-88.160009</td>\n",
       "      <td>-41.837174</td>\n",
       "      <td>-48.987699</td>\n",
       "      <td>-26.721758</td>\n",
       "      <td>-35.454891</td>\n",
       "      <td>-23.973469</td>\n",
       "      <td>...</td>\n",
       "      <td>3.588867</td>\n",
       "      <td>4.490561e+03</td>\n",
       "      <td>4.140245e+01</td>\n",
       "      <td>0.0</td>\n",
       "      <td>-427348.312500</td>\n",
       "      <td>-148.525772</td>\n",
       "      <td>0.000000e+00</td>\n",
       "      <td>1.098498e+06</td>\n",
       "      <td>-3.000000</td>\n",
       "      <td>0.000000</td>\n",
       "    </tr>\n",
       "    <tr>\n",
       "      <th>25%</th>\n",
       "      <td>701.650737</td>\n",
       "      <td>45.531983</td>\n",
       "      <td>-28.158299</td>\n",
       "      <td>39.503115</td>\n",
       "      <td>-15.940220</td>\n",
       "      <td>25.904370</td>\n",
       "      <td>-3.266232</td>\n",
       "      <td>16.958161</td>\n",
       "      <td>6.091282</td>\n",
       "      <td>11.349311</td>\n",
       "      <td>...</td>\n",
       "      <td>199.003485</td>\n",
       "      <td>5.968881e+05</td>\n",
       "      <td>1.863994e+03</td>\n",
       "      <td>0.0</td>\n",
       "      <td>-0.332406</td>\n",
       "      <td>-0.082917</td>\n",
       "      <td>3.750436e+04</td>\n",
       "      <td>1.124291e+10</td>\n",
       "      <td>-0.069240</td>\n",
       "      <td>0.000000</td>\n",
       "    </tr>\n",
       "    <tr>\n",
       "      <th>50%</th>\n",
       "      <td>825.624647</td>\n",
       "      <td>74.008466</td>\n",
       "      <td>2.385506</td>\n",
       "      <td>53.200929</td>\n",
       "      <td>3.833513</td>\n",
       "      <td>34.087116</td>\n",
       "      <td>9.972833</td>\n",
       "      <td>22.015254</td>\n",
       "      <td>14.141603</td>\n",
       "      <td>15.476138</td>\n",
       "      <td>...</td>\n",
       "      <td>546.485180</td>\n",
       "      <td>1.234899e+06</td>\n",
       "      <td>3.855819e+03</td>\n",
       "      <td>0.0</td>\n",
       "      <td>0.196938</td>\n",
       "      <td>-0.002934</td>\n",
       "      <td>1.565367e+05</td>\n",
       "      <td>4.730443e+10</td>\n",
       "      <td>0.186421</td>\n",
       "      <td>0.000000</td>\n",
       "    </tr>\n",
       "    <tr>\n",
       "      <th>75%</th>\n",
       "      <td>959.726289</td>\n",
       "      <td>99.577733</td>\n",
       "      <td>28.229987</td>\n",
       "      <td>65.021862</td>\n",
       "      <td>22.487635</td>\n",
       "      <td>42.324745</td>\n",
       "      <td>20.381357</td>\n",
       "      <td>27.575977</td>\n",
       "      <td>19.567520</td>\n",
       "      <td>19.274661</td>\n",
       "      <td>...</td>\n",
       "      <td>1442.009632</td>\n",
       "      <td>8.348212e+06</td>\n",
       "      <td>2.115913e+04</td>\n",
       "      <td>0.0</td>\n",
       "      <td>0.891293</td>\n",
       "      <td>0.063645</td>\n",
       "      <td>3.800722e+06</td>\n",
       "      <td>1.896499e+12</td>\n",
       "      <td>2.320519</td>\n",
       "      <td>1.000000</td>\n",
       "    </tr>\n",
       "    <tr>\n",
       "      <th>max</th>\n",
       "      <td>2065.265843</td>\n",
       "      <td>233.043814</td>\n",
       "      <td>112.815778</td>\n",
       "      <td>132.919902</td>\n",
       "      <td>64.457973</td>\n",
       "      <td>118.624193</td>\n",
       "      <td>58.102843</td>\n",
       "      <td>71.468831</td>\n",
       "      <td>53.939397</td>\n",
       "      <td>65.529958</td>\n",
       "      <td>...</td>\n",
       "      <td>6894.203309</td>\n",
       "      <td>7.142860e+10</td>\n",
       "      <td>5.437551e+08</td>\n",
       "      <td>0.0</td>\n",
       "      <td>287691.593750</td>\n",
       "      <td>67.194862</td>\n",
       "      <td>3.695033e+15</td>\n",
       "      <td>4.833089e+20</td>\n",
       "      <td>27424.243210</td>\n",
       "      <td>1.000000</td>\n",
       "    </tr>\n",
       "  </tbody>\n",
       "</table>\n",
       "<p>8 rows × 62 columns</p>\n",
       "</div>"
      ],
      "text/plain": [
       "            mfccs_0       mfccs_1       mfccs_2       mfccs_3       mfccs_4  \\\n",
       "count  23496.000000  23496.000000  23496.000000  23496.000000  23496.000000   \n",
       "mean     842.505003     73.359982     -0.894606     52.395407      2.601928   \n",
       "std      189.732512     38.111069     38.966119     19.352436     24.226235   \n",
       "min      480.726115    -87.232311   -198.422667    -32.555981    -88.160009   \n",
       "25%      701.650737     45.531983    -28.158299     39.503115    -15.940220   \n",
       "50%      825.624647     74.008466      2.385506     53.200929      3.833513   \n",
       "75%      959.726289     99.577733     28.229987     65.021862     22.487635   \n",
       "max     2065.265843    233.043814    112.815778    132.919902     64.457973   \n",
       "\n",
       "            mfccs_5       mfccs_6       mfccs_7       mfccs_8       mfccs_9  \\\n",
       "count  23496.000000  23496.000000  23496.000000  23496.000000  23496.000000   \n",
       "mean      34.513327      7.728752     22.589093     12.131532     15.490778   \n",
       "std       12.969548     15.588723      9.172668     10.312101      6.988078   \n",
       "min      -41.837174    -48.987699    -26.721758    -35.454891    -23.973469   \n",
       "25%       25.904370     -3.266232     16.958161      6.091282     11.349311   \n",
       "50%       34.087116      9.972833     22.015254     14.141603     15.476138   \n",
       "75%       42.324745     20.381357     27.575977     19.567520     19.274661   \n",
       "max      118.624193     58.102843     71.468831     53.939397     65.529958   \n",
       "\n",
       "           ...          centiroid  max_amplitude  mean_amplitude   moment  \\\n",
       "count      ...       23496.000000   2.349600e+04    2.349600e+04  23496.0   \n",
       "mean       ...         959.045374   2.471252e+08    3.094769e+05      0.0   \n",
       "std        ...        1024.497248   1.740120e+09    4.249657e+06      0.0   \n",
       "min        ...           3.588867   4.490561e+03    4.140245e+01      0.0   \n",
       "25%        ...         199.003485   5.968881e+05    1.863994e+03      0.0   \n",
       "50%        ...         546.485180   1.234899e+06    3.855819e+03      0.0   \n",
       "75%        ...        1442.009632   8.348212e+06    2.115913e+04      0.0   \n",
       "max        ...        6894.203309   7.142860e+10    5.437551e+08      0.0   \n",
       "\n",
       "           variation          skew           var        autocr         kurto  \\\n",
       "count   23496.000000  23496.000000  2.349600e+04  2.349600e+04  23496.000000   \n",
       "mean       18.969707     -0.032753  5.274213e+11  1.096999e+17      7.173602   \n",
       "std      3913.459504      1.590172  2.553565e+13  3.697947e+18    211.110656   \n",
       "min   -427348.312500   -148.525772  0.000000e+00  1.098498e+06     -3.000000   \n",
       "25%        -0.332406     -0.082917  3.750436e+04  1.124291e+10     -0.069240   \n",
       "50%         0.196938     -0.002934  1.565367e+05  4.730443e+10      0.186421   \n",
       "75%         0.891293      0.063645  3.800722e+06  1.896499e+12      2.320519   \n",
       "max    287691.593750     67.194862  3.695033e+15  4.833089e+20  27424.243210   \n",
       "\n",
       "             target  \n",
       "count  23496.000000  \n",
       "mean       0.448332  \n",
       "std        0.497334  \n",
       "min        0.000000  \n",
       "25%        0.000000  \n",
       "50%        0.000000  \n",
       "75%        1.000000  \n",
       "max        1.000000  \n",
       "\n",
       "[8 rows x 62 columns]"
      ]
     },
     "execution_count": 22,
     "metadata": {},
     "output_type": "execute_result"
    }
   ],
   "source": [
    "df.describe()"
   ]
  },
  {
   "cell_type": "code",
   "execution_count": 23,
   "metadata": {},
   "outputs": [
    {
     "name": "stdout",
     "output_type": "stream",
     "text": [
      "(23496, 61) (23496,)\n"
     ]
    }
   ],
   "source": [
    "Y = df['target']\n",
    "X = df.drop(['target'], axis=1)\n",
    "\n",
    "print(np.shape(X), np.shape(Y))\n",
    "\n",
    "X, Y = shuffle(X, Y, random_state = random_state)\n",
    "\n",
    "X_train, X_test, Y_train, Y_test = train_test_split(X, Y, test_size = 0.25, random_state=random_state)\n",
    "mms = StandardScaler()\n",
    "X_train = mms.fit_transform(X_train)\n",
    "X_test = mms.fit_transform(X_test)"
   ]
  },
  {
   "cell_type": "markdown",
   "metadata": {},
   "source": [
    "## LightGBM"
   ]
  },
  {
   "cell_type": "code",
   "execution_count": 47,
   "metadata": {},
   "outputs": [
    {
     "data": {
      "text/plain": [
       "LGBMClassifier(boosting_type='gbdt', colsample_bytree=1.0, learning_rate=0.5,\n",
       "        max_bin=255, max_depth=-1, min_child_samples=10,\n",
       "        min_child_weight=5, min_data_in_leaf=40, min_split_gain=0.0,\n",
       "        n_estimators=400, n_jobs=-1, num_leaves=250, objective=None,\n",
       "        random_state=0, reg_alpha=0.0, reg_lambda=0.0, silent=True,\n",
       "        subsample=1.0, subsample_for_bin=50000, subsample_freq=1)"
      ]
     },
     "execution_count": 47,
     "metadata": {},
     "output_type": "execute_result"
    }
   ],
   "source": [
    "import lightgbm as lgb\n",
    "lgbm_model = lgb.LGBMClassifier()\n",
    "lgbm_model.fit(X_train, Y_train)"
   ]
  },
  {
   "cell_type": "code",
   "execution_count": 48,
   "metadata": {},
   "outputs": [
    {
     "name": "stdout",
     "output_type": "stream",
     "text": [
      "1. The accuracy of the model is 0.6023152877085461\n",
      "\n",
      "2. Classification report \n",
      "              precision    recall  f1-score   support\n",
      "\n",
      "        0.0       0.61      0.76      0.68      3221\n",
      "        1.0       0.59      0.41      0.48      2653\n",
      "\n",
      "avg / total       0.60      0.60      0.59      5874\n",
      " \n",
      "\n",
      "3. Confusion matrix \n",
      " [[2453 1568]\n",
      " [ 768 1085]] \n",
      "\n",
      "4. Roc_Auc score \n",
      " 0.5977921095038956\n"
     ]
    }
   ],
   "source": [
    "Y_pred = lgbm_model.predict(X_test)\n",
    "\n",
    "print('1. The accuracy of the model is {}\\n'.format(accuracy_score(Y_test, Y_pred)))\n",
    "print('2. Classification report \\n {} \\n'.format(classification_report(Y_test, Y_pred)))\n",
    "print('3. Confusion matrix \\n {} \\n'.format(confusion_matrix(Y_pred, Y_test)))\n",
    "print('4. Roc_Auc score \\n {}'.format(roc_auc_score(Y_pred, Y_test)))"
   ]
  },
  {
   "cell_type": "markdown",
   "metadata": {},
   "source": [
    "## xgboost"
   ]
  },
  {
   "cell_type": "code",
   "execution_count": 9,
   "metadata": {},
   "outputs": [
    {
     "data": {
      "text/plain": [
       "XGBClassifier(base_score=0.5, booster='gbtree', colsample_bylevel=1,\n",
       "       colsample_bytree=0.7, gamma=0, learning_rate=0.1, max_delta_step=0,\n",
       "       max_depth=5, min_child_weight=11, missing=-999, n_estimators=2000,\n",
       "       n_jobs=1, nthread=4, objective='binary:logistic', random_state=0,\n",
       "       reg_alpha=0, reg_lambda=1, scale_pos_weight=1, seed=1337, silent=1,\n",
       "       subsample=0.8)"
      ]
     },
     "execution_count": 9,
     "metadata": {},
     "output_type": "execute_result"
    }
   ],
   "source": [
    "import xgboost as xgb \n",
    "xgb_model = xgb.XGBClassifier()\n",
    "xgb_model.fit(X_train, Y_train)"
   ]
  },
  {
   "cell_type": "code",
   "execution_count": 10,
   "metadata": {},
   "outputs": [
    {
     "name": "stdout",
     "output_type": "stream",
     "text": [
      "1. The accuracy of the model is 0.7985074626865671\n",
      "\n",
      "2. Classification report \n",
      "              precision    recall  f1-score   support\n",
      "\n",
      "        0.0       0.81      0.93      0.86       276\n",
      "        1.0       0.76      0.52      0.62       126\n",
      "\n",
      "avg / total       0.79      0.80      0.79       402\n",
      " \n",
      "\n",
      "3. Confusion matrix \n",
      " [[256  61]\n",
      " [ 20  65]] \n",
      "\n",
      "4. Roc_Auc score \n",
      " 0.786138430135461\n"
     ]
    }
   ],
   "source": [
    "Y_pred = xgb_model.predict(X_test)\n",
    "\n",
    "print('1. The accuracy of the model is {}\\n'.format(accuracy_score(Y_test, Y_pred)))\n",
    "print('2. Classification report \\n {} \\n'.format(classification_report(Y_test, Y_pred)))\n",
    "print('3. Confusion matrix \\n {} \\n'.format(confusion_matrix(Y_pred, Y_test)))\n",
    "print('4. Roc_Auc score \\n {}'.format(roc_auc_score(Y_pred, Y_test)))"
   ]
  },
  {
   "cell_type": "markdown",
   "metadata": {},
   "source": [
    "## Random forest classifier"
   ]
  },
  {
   "cell_type": "code",
   "execution_count": 49,
   "metadata": {},
   "outputs": [
    {
     "name": "stdout",
     "output_type": "stream",
     "text": [
      "1. The accuracy of the model is 0.6470888661899897\n",
      "\n",
      "2. Classification report \n",
      "              precision    recall  f1-score   support\n",
      "\n",
      "        0.0       0.65      0.78      0.71      3221\n",
      "        1.0       0.64      0.49      0.55      2653\n",
      "\n",
      "avg / total       0.65      0.65      0.64      5874\n",
      " \n",
      "\n",
      "3. Confusion matrix \n",
      " [[2509 1361]\n",
      " [ 712 1292]] \n",
      "\n",
      "4. Roc_Auc score \n",
      " 0.6465154961395039\n"
     ]
    }
   ],
   "source": [
    "rf_model = RandomForestClassifier()\n",
    "\n",
    "rf_model.fit(X_train, Y_train)\n",
    "Y_pred = rf_model.predict(X_test)\n",
    "\n",
    "print('1. The accuracy of the model is {}\\n'.format(accuracy_score(Y_test, Y_pred)))\n",
    "print('2. Classification report \\n {} \\n'.format(classification_report(Y_test, Y_pred)))\n",
    "print('3. Confusion matrix \\n {} \\n'.format(confusion_matrix(Y_pred, Y_test)))\n",
    "print('4. Roc_Auc score \\n {}'.format(roc_auc_score(Y_pred, Y_test)))"
   ]
  },
  {
   "cell_type": "markdown",
   "metadata": {},
   "source": [
    "## Gaussian Naive Bayes"
   ]
  },
  {
   "cell_type": "code",
   "execution_count": 27,
   "metadata": {},
   "outputs": [
    {
     "name": "stdout",
     "output_type": "stream",
     "text": [
      "1. The accuracy of the model is 0.5030643513789581\n",
      "\n",
      "2. Classification report \n",
      "              precision    recall  f1-score   support\n",
      "\n",
      "        0.0       0.80      0.12      0.22      3221\n",
      "        1.0       0.48      0.96      0.64      2653\n",
      "\n",
      "avg / total       0.65      0.50      0.41      5874\n",
      " \n",
      "\n",
      "3. Confusion matrix \n",
      " [[ 401   99]\n",
      " [2820 2554]] \n",
      "\n",
      "4. Roc_Auc score \n",
      " 0.638625604763677\n"
     ]
    }
   ],
   "source": [
    "from sklearn.naive_bayes import GaussianNB\n",
    "gb_model = GaussianNB()\n",
    "\n",
    "gb_model.fit(X_train, Y_train)\n",
    "Y_pred = gb_model.predict(X_test)\n",
    "\n",
    "print('1. The accuracy of the model is {}\\n'.format(accuracy_score(Y_test, Y_pred)))\n",
    "print('2. Classification report \\n {} \\n'.format(classification_report(Y_test, Y_pred)))\n",
    "print('3. Confusion matrix \\n {} \\n'.format(confusion_matrix(Y_pred, Y_test)))\n",
    "print('4. Roc_Auc score \\n {}'.format(roc_auc_score(Y_pred, Y_test)))\n"
   ]
  },
  {
   "cell_type": "markdown",
   "metadata": {},
   "source": [
    "## Support Vector Machine"
   ]
  },
  {
   "cell_type": "code",
   "execution_count": null,
   "metadata": {
    "collapsed": true
   },
   "outputs": [],
   "source": [
    "from sklearn import svm\n",
    "svm_model = svm.SVC()\n",
    "\n",
    "svm_model.fit(X_train, Y_train)\n",
    "Y_pred = svm_model.predict(X_test)\n",
    "\n",
    "print('1. The accuracy of the model is {}\\n'.format(accuracy_score(Y_test, Y_pred)))\n",
    "print('2. Classification report \\n {} \\n'.format(classification_report(Y_test, Y_pred)))\n",
    "print('3. Confusion matrix \\n {} \\n'.format(confusion_matrix(Y_pred, Y_test)))\n",
    "print('4. Roc_Auc score \\n {}'.format(roc_auc_score(Y_pred, Y_test)))"
   ]
  },
  {
   "cell_type": "code",
   "execution_count": null,
   "metadata": {
    "collapsed": true
   },
   "outputs": [],
   "source": []
  }
 ],
 "metadata": {
  "kernelspec": {
   "display_name": "Python 3",
   "language": "python",
   "name": "python3"
  },
  "language_info": {
   "codemirror_mode": {
    "name": "ipython",
    "version": 3
   },
   "file_extension": ".py",
   "mimetype": "text/x-python",
   "name": "python",
   "nbconvert_exporter": "python",
   "pygments_lexer": "ipython3",
   "version": "3.6.1"
  }
 },
 "nbformat": 4,
 "nbformat_minor": 2
}
