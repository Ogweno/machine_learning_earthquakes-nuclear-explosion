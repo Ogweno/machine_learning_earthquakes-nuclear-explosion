{
 "cells": [
  {
   "cell_type": "code",
   "execution_count": 2,
   "metadata": {
    "collapsed": true
   },
   "outputs": [],
   "source": [
    "%matplotlib inline\n",
    "import numpy as np\n",
    "import scipy as sp\n",
    "import scipy.signal as signal\n",
    "import pandas as pd\n",
    "import matplotlib.pyplot as plt\n",
    "from sklearn.utils import shuffle\n",
    "from sklearn.preprocessing import StandardScaler\n",
    "from sklearn.ensemble import RandomForestClassifier\n",
    "from sklearn.model_selection import StratifiedKFold, GridSearchCV\n",
    "from sklearn.metrics import accuracy_score, confusion_matrix, classification_report, roc_auc_score\n",
    "from sklearn.model_selection import train_test_split\n",
    "from sklearn.utils import shuffle\n",
    "import seaborn as sns\n",
    "import warnings\n",
    "import sys, os\n",
    "\n",
    "warnings.filterwarnings('ignore')\n",
    "random_state = 6\n",
    "np.random.seed(random_state)"
   ]
  },
  {
   "cell_type": "code",
   "execution_count": 3,
   "metadata": {
    "collapsed": true
   },
   "outputs": [],
   "source": [
    "# filename = 'seismogram_data_62.csv'\n",
    "filename = 'seismogram_data_62_new.csv'\n",
    "df = pd.read_csv(filename)"
   ]
  },
  {
   "cell_type": "code",
   "execution_count": 4,
   "metadata": {},
   "outputs": [
    {
     "data": {
      "text/html": [
       "<div>\n",
       "<style>\n",
       "    .dataframe thead tr:only-child th {\n",
       "        text-align: right;\n",
       "    }\n",
       "\n",
       "    .dataframe thead th {\n",
       "        text-align: left;\n",
       "    }\n",
       "\n",
       "    .dataframe tbody tr th {\n",
       "        vertical-align: top;\n",
       "    }\n",
       "</style>\n",
       "<table border=\"1\" class=\"dataframe\">\n",
       "  <thead>\n",
       "    <tr style=\"text-align: right;\">\n",
       "      <th></th>\n",
       "      <th>mfccs_0</th>\n",
       "      <th>mfccs_1</th>\n",
       "      <th>mfccs_2</th>\n",
       "      <th>mfccs_3</th>\n",
       "      <th>mfccs_4</th>\n",
       "      <th>mfccs_5</th>\n",
       "      <th>mfccs_6</th>\n",
       "      <th>mfccs_7</th>\n",
       "      <th>mfccs_8</th>\n",
       "      <th>mfccs_9</th>\n",
       "      <th>...</th>\n",
       "      <th>centiroid</th>\n",
       "      <th>max_amplitude</th>\n",
       "      <th>mean_amplitude</th>\n",
       "      <th>moment</th>\n",
       "      <th>variation</th>\n",
       "      <th>skew</th>\n",
       "      <th>var</th>\n",
       "      <th>autocr</th>\n",
       "      <th>kurto</th>\n",
       "      <th>target</th>\n",
       "    </tr>\n",
       "  </thead>\n",
       "  <tbody>\n",
       "    <tr>\n",
       "      <th>count</th>\n",
       "      <td>22216.000000</td>\n",
       "      <td>22216.000000</td>\n",
       "      <td>22216.000000</td>\n",
       "      <td>22216.000000</td>\n",
       "      <td>22216.000000</td>\n",
       "      <td>22216.000000</td>\n",
       "      <td>22216.000000</td>\n",
       "      <td>22216.000000</td>\n",
       "      <td>22216.000000</td>\n",
       "      <td>22216.000000</td>\n",
       "      <td>...</td>\n",
       "      <td>22216.000000</td>\n",
       "      <td>2.221600e+04</td>\n",
       "      <td>2.221600e+04</td>\n",
       "      <td>22216.0</td>\n",
       "      <td>22216.000000</td>\n",
       "      <td>22216.000000</td>\n",
       "      <td>2.221600e+04</td>\n",
       "      <td>2.221600e+04</td>\n",
       "      <td>22216.000000</td>\n",
       "      <td>22216.000000</td>\n",
       "    </tr>\n",
       "    <tr>\n",
       "      <th>mean</th>\n",
       "      <td>841.535354</td>\n",
       "      <td>72.717304</td>\n",
       "      <td>-1.120552</td>\n",
       "      <td>52.234151</td>\n",
       "      <td>2.483228</td>\n",
       "      <td>34.444831</td>\n",
       "      <td>7.671640</td>\n",
       "      <td>22.622343</td>\n",
       "      <td>12.085533</td>\n",
       "      <td>15.528755</td>\n",
       "      <td>...</td>\n",
       "      <td>971.449960</td>\n",
       "      <td>2.398654e+08</td>\n",
       "      <td>2.960831e+05</td>\n",
       "      <td>0.0</td>\n",
       "      <td>20.183022</td>\n",
       "      <td>-0.027121</td>\n",
       "      <td>5.556371e+11</td>\n",
       "      <td>9.640448e+16</td>\n",
       "      <td>6.574073</td>\n",
       "      <td>0.450801</td>\n",
       "    </tr>\n",
       "    <tr>\n",
       "      <th>std</th>\n",
       "      <td>191.235047</td>\n",
       "      <td>38.199436</td>\n",
       "      <td>39.099088</td>\n",
       "      <td>19.406940</td>\n",
       "      <td>24.244137</td>\n",
       "      <td>12.987450</td>\n",
       "      <td>15.622192</td>\n",
       "      <td>9.220608</td>\n",
       "      <td>10.365557</td>\n",
       "      <td>7.056197</td>\n",
       "      <td>...</td>\n",
       "      <td>1035.548479</td>\n",
       "      <td>1.618594e+09</td>\n",
       "      <td>4.228556e+06</td>\n",
       "      <td>0.0</td>\n",
       "      <td>4024.576118</td>\n",
       "      <td>1.393490</td>\n",
       "      <td>2.625937e+13</td>\n",
       "      <td>3.678673e+18</td>\n",
       "      <td>197.093498</td>\n",
       "      <td>0.497585</td>\n",
       "    </tr>\n",
       "    <tr>\n",
       "      <th>min</th>\n",
       "      <td>480.726115</td>\n",
       "      <td>-87.232311</td>\n",
       "      <td>-198.422667</td>\n",
       "      <td>-32.555981</td>\n",
       "      <td>-88.160009</td>\n",
       "      <td>-41.837174</td>\n",
       "      <td>-48.987699</td>\n",
       "      <td>-26.721758</td>\n",
       "      <td>-35.454891</td>\n",
       "      <td>-23.973469</td>\n",
       "      <td>...</td>\n",
       "      <td>3.588867</td>\n",
       "      <td>4.490561e+03</td>\n",
       "      <td>4.140245e+01</td>\n",
       "      <td>0.0</td>\n",
       "      <td>-427348.312500</td>\n",
       "      <td>-148.525772</td>\n",
       "      <td>0.000000e+00</td>\n",
       "      <td>1.098498e+06</td>\n",
       "      <td>-3.000000</td>\n",
       "      <td>0.000000</td>\n",
       "    </tr>\n",
       "    <tr>\n",
       "      <th>25%</th>\n",
       "      <td>699.059195</td>\n",
       "      <td>44.646795</td>\n",
       "      <td>-28.657048</td>\n",
       "      <td>39.179819</td>\n",
       "      <td>-16.100590</td>\n",
       "      <td>25.823460</td>\n",
       "      <td>-3.387524</td>\n",
       "      <td>16.973561</td>\n",
       "      <td>5.998598</td>\n",
       "      <td>11.365791</td>\n",
       "      <td>...</td>\n",
       "      <td>198.914251</td>\n",
       "      <td>5.850580e+05</td>\n",
       "      <td>1.836427e+03</td>\n",
       "      <td>0.0</td>\n",
       "      <td>-0.326106</td>\n",
       "      <td>-0.084359</td>\n",
       "      <td>3.699506e+04</td>\n",
       "      <td>1.065173e+10</td>\n",
       "      <td>-0.067151</td>\n",
       "      <td>0.000000</td>\n",
       "    </tr>\n",
       "    <tr>\n",
       "      <th>50%</th>\n",
       "      <td>823.266826</td>\n",
       "      <td>73.334659</td>\n",
       "      <td>2.453667</td>\n",
       "      <td>53.082876</td>\n",
       "      <td>3.731802</td>\n",
       "      <td>34.055244</td>\n",
       "      <td>9.972462</td>\n",
       "      <td>22.042250</td>\n",
       "      <td>14.128136</td>\n",
       "      <td>15.497889</td>\n",
       "      <td>...</td>\n",
       "      <td>550.956333</td>\n",
       "      <td>1.193249e+06</td>\n",
       "      <td>3.733953e+03</td>\n",
       "      <td>0.0</td>\n",
       "      <td>0.204730</td>\n",
       "      <td>-0.002923</td>\n",
       "      <td>1.485523e+05</td>\n",
       "      <td>4.448388e+10</td>\n",
       "      <td>0.197497</td>\n",
       "      <td>0.000000</td>\n",
       "    </tr>\n",
       "    <tr>\n",
       "      <th>75%</th>\n",
       "      <td>959.873963</td>\n",
       "      <td>99.011031</td>\n",
       "      <td>28.346150</td>\n",
       "      <td>64.883821</td>\n",
       "      <td>22.434741</td>\n",
       "      <td>42.256966</td>\n",
       "      <td>20.350147</td>\n",
       "      <td>27.610037</td>\n",
       "      <td>19.563121</td>\n",
       "      <td>19.315831</td>\n",
       "      <td>...</td>\n",
       "      <td>1465.813517</td>\n",
       "      <td>7.911418e+06</td>\n",
       "      <td>2.024887e+04</td>\n",
       "      <td>0.0</td>\n",
       "      <td>0.901340</td>\n",
       "      <td>0.064298</td>\n",
       "      <td>3.477907e+06</td>\n",
       "      <td>1.656055e+12</td>\n",
       "      <td>2.471488</td>\n",
       "      <td>1.000000</td>\n",
       "    </tr>\n",
       "    <tr>\n",
       "      <th>max</th>\n",
       "      <td>2065.265843</td>\n",
       "      <td>233.043814</td>\n",
       "      <td>112.815778</td>\n",
       "      <td>132.919902</td>\n",
       "      <td>61.106265</td>\n",
       "      <td>118.624193</td>\n",
       "      <td>58.102843</td>\n",
       "      <td>71.468831</td>\n",
       "      <td>53.939397</td>\n",
       "      <td>65.529958</td>\n",
       "      <td>...</td>\n",
       "      <td>6894.203309</td>\n",
       "      <td>7.142860e+10</td>\n",
       "      <td>5.437551e+08</td>\n",
       "      <td>0.0</td>\n",
       "      <td>287691.593750</td>\n",
       "      <td>67.194862</td>\n",
       "      <td>3.695033e+15</td>\n",
       "      <td>4.833089e+20</td>\n",
       "      <td>27424.243210</td>\n",
       "      <td>1.000000</td>\n",
       "    </tr>\n",
       "  </tbody>\n",
       "</table>\n",
       "<p>8 rows × 62 columns</p>\n",
       "</div>"
      ],
      "text/plain": [
       "            mfccs_0       mfccs_1       mfccs_2       mfccs_3       mfccs_4  \\\n",
       "count  22216.000000  22216.000000  22216.000000  22216.000000  22216.000000   \n",
       "mean     841.535354     72.717304     -1.120552     52.234151      2.483228   \n",
       "std      191.235047     38.199436     39.099088     19.406940     24.244137   \n",
       "min      480.726115    -87.232311   -198.422667    -32.555981    -88.160009   \n",
       "25%      699.059195     44.646795    -28.657048     39.179819    -16.100590   \n",
       "50%      823.266826     73.334659      2.453667     53.082876      3.731802   \n",
       "75%      959.873963     99.011031     28.346150     64.883821     22.434741   \n",
       "max     2065.265843    233.043814    112.815778    132.919902     61.106265   \n",
       "\n",
       "            mfccs_5       mfccs_6       mfccs_7       mfccs_8       mfccs_9  \\\n",
       "count  22216.000000  22216.000000  22216.000000  22216.000000  22216.000000   \n",
       "mean      34.444831      7.671640     22.622343     12.085533     15.528755   \n",
       "std       12.987450     15.622192      9.220608     10.365557      7.056197   \n",
       "min      -41.837174    -48.987699    -26.721758    -35.454891    -23.973469   \n",
       "25%       25.823460     -3.387524     16.973561      5.998598     11.365791   \n",
       "50%       34.055244      9.972462     22.042250     14.128136     15.497889   \n",
       "75%       42.256966     20.350147     27.610037     19.563121     19.315831   \n",
       "max      118.624193     58.102843     71.468831     53.939397     65.529958   \n",
       "\n",
       "           ...          centiroid  max_amplitude  mean_amplitude   moment  \\\n",
       "count      ...       22216.000000   2.221600e+04    2.221600e+04  22216.0   \n",
       "mean       ...         971.449960   2.398654e+08    2.960831e+05      0.0   \n",
       "std        ...        1035.548479   1.618594e+09    4.228556e+06      0.0   \n",
       "min        ...           3.588867   4.490561e+03    4.140245e+01      0.0   \n",
       "25%        ...         198.914251   5.850580e+05    1.836427e+03      0.0   \n",
       "50%        ...         550.956333   1.193249e+06    3.733953e+03      0.0   \n",
       "75%        ...        1465.813517   7.911418e+06    2.024887e+04      0.0   \n",
       "max        ...        6894.203309   7.142860e+10    5.437551e+08      0.0   \n",
       "\n",
       "           variation          skew           var        autocr         kurto  \\\n",
       "count   22216.000000  22216.000000  2.221600e+04  2.221600e+04  22216.000000   \n",
       "mean       20.183022     -0.027121  5.556371e+11  9.640448e+16      6.574073   \n",
       "std      4024.576118      1.393490  2.625937e+13  3.678673e+18    197.093498   \n",
       "min   -427348.312500   -148.525772  0.000000e+00  1.098498e+06     -3.000000   \n",
       "25%        -0.326106     -0.084359  3.699506e+04  1.065173e+10     -0.067151   \n",
       "50%         0.204730     -0.002923  1.485523e+05  4.448388e+10      0.197497   \n",
       "75%         0.901340      0.064298  3.477907e+06  1.656055e+12      2.471488   \n",
       "max    287691.593750     67.194862  3.695033e+15  4.833089e+20  27424.243210   \n",
       "\n",
       "             target  \n",
       "count  22216.000000  \n",
       "mean       0.450801  \n",
       "std        0.497585  \n",
       "min        0.000000  \n",
       "25%        0.000000  \n",
       "50%        0.000000  \n",
       "75%        1.000000  \n",
       "max        1.000000  \n",
       "\n",
       "[8 rows x 62 columns]"
      ]
     },
     "execution_count": 4,
     "metadata": {},
     "output_type": "execute_result"
    }
   ],
   "source": [
    "df.describe()"
   ]
  },
  {
   "cell_type": "code",
   "execution_count": 5,
   "metadata": {},
   "outputs": [
    {
     "name": "stdout",
     "output_type": "stream",
     "text": [
      "(22216, 60) (22216,)\n"
     ]
    }
   ],
   "source": [
    "Y = df['target']\n",
    "X = df.drop(['target', 'moment'], axis=1)\n",
    "\n",
    "print(np.shape(X), np.shape(Y))\n",
    "\n",
    "X, Y = shuffle(X, Y, random_state = random_state)\n",
    "\n",
    "X_train, X_test, Y_train, Y_test = train_test_split(X, Y, test_size = 0.25, random_state=random_state)\n",
    "mms = StandardScaler()\n",
    "X_train = mms.fit_transform(X_train)\n",
    "X_test = mms.fit_transform(X_test)"
   ]
  },
  {
   "cell_type": "markdown",
   "metadata": {},
   "source": [
    "## LightGBM"
   ]
  },
  {
   "cell_type": "code",
   "execution_count": 16,
   "metadata": {},
   "outputs": [
    {
     "data": {
      "text/plain": [
       "LGBMClassifier(boosting_type='gbdt', colsample_bytree=1.0, learning_rate=0.1,\n",
       "        max_bin=255, max_depth=-1, min_child_samples=5, min_child_weight=5,\n",
       "        min_split_gain=0.0, n_estimators=10, n_jobs=-1, num_leaves=300,\n",
       "        objective=None, random_state=0, reg_alpha=0.0, reg_lambda=0.0,\n",
       "        silent=True, subsample=1.0, subsample_for_bin=50000,\n",
       "        subsample_freq=1)"
      ]
     },
     "execution_count": 16,
     "metadata": {},
     "output_type": "execute_result"
    }
   ],
   "source": [
    "import lightgbm as lgb\n",
    "lgbm_model = lgb.LGBMClassifier(num_leaves=300, min_child_samples=5)\n",
    "lgbm_model.fit(X_train, Y_train)"
   ]
  },
  {
   "cell_type": "code",
   "execution_count": 17,
   "metadata": {},
   "outputs": [
    {
     "name": "stdout",
     "output_type": "stream",
     "text": [
      "1. The accuracy of the model is 0.5\n",
      "\n",
      "2. Classification report \n",
      "              precision    recall  f1-score   support\n",
      "\n",
      "        0.0       0.53      0.72      0.61      3020\n",
      "        1.0       0.41      0.23      0.30      2534\n",
      "\n",
      "avg / total       0.48      0.50      0.47      5554\n",
      " \n",
      "\n",
      "3. Confusion matrix \n",
      " [[2184 1941]\n",
      " [ 836  593]] \n",
      "\n",
      "4. Roc_Auc score \n",
      " 0.4722150264011705\n"
     ]
    }
   ],
   "source": [
    "Y_pred = lgbm_model.predict(X_test)\n",
    "\n",
    "print('1. The accuracy of the model is {}\\n'.format(accuracy_score(Y_test, Y_pred)))\n",
    "print('2. Classification report \\n {} \\n'.format(classification_report(Y_test, Y_pred)))\n",
    "print('3. Confusion matrix \\n {} \\n'.format(confusion_matrix(Y_pred, Y_test)))\n",
    "print('4. Roc_Auc score \\n {}'.format(roc_auc_score(Y_pred, Y_test)))"
   ]
  },
  {
   "cell_type": "markdown",
   "metadata": {},
   "source": [
    "## xgboost"
   ]
  },
  {
   "cell_type": "code",
   "execution_count": 61,
   "metadata": {},
   "outputs": [
    {
     "data": {
      "text/plain": [
       "XGBClassifier(base_score=0.5, booster='gbtree', colsample_bylevel=1,\n",
       "       colsample_bytree=1, gamma=0, learning_rate=0.1, max_delta_step=0,\n",
       "       max_depth=3, min_child_weight=1, missing=None, n_estimators=100,\n",
       "       n_jobs=1, nthread=None, objective='binary:logistic', random_state=0,\n",
       "       reg_alpha=0, reg_lambda=1, scale_pos_weight=1, seed=None,\n",
       "       silent=True, subsample=1)"
      ]
     },
     "execution_count": 61,
     "metadata": {},
     "output_type": "execute_result"
    }
   ],
   "source": [
    "import xgboost as xgb \n",
    "xgb_model = xgb.XGBClassifier()\n",
    "xgb_model.fit(X_train, Y_train)"
   ]
  },
  {
   "cell_type": "code",
   "execution_count": 62,
   "metadata": {},
   "outputs": [
    {
     "name": "stdout",
     "output_type": "stream",
     "text": [
      "1. The accuracy of the model is 0.6070820565202588\n",
      "\n",
      "2. Classification report \n",
      "              precision    recall  f1-score   support\n",
      "\n",
      "        0.0       0.64      0.66      0.65      3221\n",
      "        1.0       0.57      0.54      0.56      2653\n",
      "\n",
      "avg / total       0.61      0.61      0.61      5874\n",
      " \n",
      "\n",
      "3. Confusion matrix \n",
      " [[2124 1211]\n",
      " [1097 1442]] \n",
      "\n",
      "4. Roc_Auc score \n",
      " 0.6024108465656892\n"
     ]
    }
   ],
   "source": [
    "Y_pred = xgb_model.predict(X_test)\n",
    "\n",
    "print('1. The accuracy of the model is {}\\n'.format(accuracy_score(Y_test, Y_pred)))\n",
    "print('2. Classification report \\n {} \\n'.format(classification_report(Y_test, Y_pred)))\n",
    "print('3. Confusion matrix \\n {} \\n'.format(confusion_matrix(Y_pred, Y_test)))\n",
    "print('4. Roc_Auc score \\n {}'.format(roc_auc_score(Y_pred, Y_test)))"
   ]
  },
  {
   "cell_type": "markdown",
   "metadata": {},
   "source": [
    "## Random forest classifier"
   ]
  },
  {
   "cell_type": "code",
   "execution_count": 38,
   "metadata": {},
   "outputs": [
    {
     "name": "stdout",
     "output_type": "stream",
     "text": [
      "1. The accuracy of the model is 0.7799783939503061\n",
      "\n",
      "2. Classification report \n",
      "              precision    recall  f1-score   support\n",
      "\n",
      "        0.0       0.79      0.81      0.80      3020\n",
      "        1.0       0.77      0.74      0.76      2534\n",
      "\n",
      "avg / total       0.78      0.78      0.78      5554\n",
      " \n",
      "\n",
      "3. Confusion matrix \n",
      " [[2448  650]\n",
      " [ 572 1884]] \n",
      "\n",
      "4. Roc_Auc score \n",
      " 0.7786440973792066\n"
     ]
    }
   ],
   "source": [
    "rf_model = RandomForestClassifier(n_estimators = 200, criterion='entropy', max_features='log2', class_weight='balanced')\n",
    "\n",
    "rf_model.fit(X_train, Y_train)\n",
    "Y_pred = rf_model.predict(X_test)\n",
    "\n",
    "print('1. The accuracy of the model is {}\\n'.format(accuracy_score(Y_test, Y_pred)))\n",
    "print('2. Classification report \\n {} \\n'.format(classification_report(Y_test, Y_pred)))\n",
    "print('3. Confusion matrix \\n {} \\n'.format(confusion_matrix(Y_pred, Y_test)))\n",
    "print('4. Roc_Auc score \\n {}'.format(roc_auc_score(Y_pred, Y_test)))"
   ]
  },
  {
   "cell_type": "markdown",
   "metadata": {},
   "source": [
    "## Gaussian Naive Bayes"
   ]
  },
  {
   "cell_type": "code",
   "execution_count": 59,
   "metadata": {},
   "outputs": [
    {
     "name": "stdout",
     "output_type": "stream",
     "text": [
      "1. The accuracy of the model is 0.5030643513789581\n",
      "\n",
      "2. Classification report \n",
      "              precision    recall  f1-score   support\n",
      "\n",
      "        0.0       0.80      0.12      0.22      3221\n",
      "        1.0       0.48      0.96      0.64      2653\n",
      "\n",
      "avg / total       0.65      0.50      0.41      5874\n",
      " \n",
      "\n",
      "3. Confusion matrix \n",
      " [[ 401   99]\n",
      " [2820 2554]] \n",
      "\n",
      "4. Roc_Auc score \n",
      " 0.638625604763677\n"
     ]
    }
   ],
   "source": [
    "from sklearn.naive_bayes import GaussianNB\n",
    "gb_model = GaussianNB()\n",
    "\n",
    "gb_model.fit(X_train, Y_train)\n",
    "Y_pred = gb_model.predict(X_test)\n",
    "\n",
    "print('1. The accuracy of the model is {}\\n'.format(accuracy_score(Y_test, Y_pred)))\n",
    "print('2. Classification report \\n {} \\n'.format(classification_report(Y_test, Y_pred)))\n",
    "print('3. Confusion matrix \\n {} \\n'.format(confusion_matrix(Y_pred, Y_test)))\n",
    "print('4. Roc_Auc score \\n {}'.format(roc_auc_score(Y_pred, Y_test)))\n"
   ]
  },
  {
   "cell_type": "markdown",
   "metadata": {},
   "source": [
    "## Support Vector Machine"
   ]
  },
  {
   "cell_type": "code",
   "execution_count": 60,
   "metadata": {},
   "outputs": [
    {
     "name": "stdout",
     "output_type": "stream",
     "text": [
      "1. The accuracy of the model is 0.7774940415389854\n",
      "\n",
      "2. Classification report \n",
      "              precision    recall  f1-score   support\n",
      "\n",
      "        0.0       0.80      0.78      0.79      3221\n",
      "        1.0       0.75      0.77      0.76      2653\n",
      "\n",
      "avg / total       0.78      0.78      0.78      5874\n",
      " \n",
      "\n",
      "3. Confusion matrix \n",
      " [[2528  614]\n",
      " [ 693 2039]] \n",
      "\n",
      "4. Roc_Auc score \n",
      " 0.7754613730005695\n"
     ]
    }
   ],
   "source": [
    "from sklearn import svm\n",
    "svm_model = svm.SVC()\n",
    "\n",
    "svm_model.fit(X_train, Y_train)\n",
    "Y_pred = svm_model.predict(X_test)\n",
    "\n",
    "print('1. The accuracy of the model is {}\\n'.format(accuracy_score(Y_test, Y_pred)))\n",
    "print('2. Classification report \\n {} \\n'.format(classification_report(Y_test, Y_pred)))\n",
    "print('3. Confusion matrix \\n {} \\n'.format(confusion_matrix(Y_pred, Y_test)))\n",
    "print('4. Roc_Auc score \\n {}'.format(roc_auc_score(Y_pred, Y_test)))"
   ]
  },
  {
   "cell_type": "code",
   "execution_count": null,
   "metadata": {
    "collapsed": true
   },
   "outputs": [],
   "source": []
  }
 ],
 "metadata": {
  "kernelspec": {
   "display_name": "Python 3",
   "language": "python",
   "name": "python3"
  },
  "language_info": {
   "codemirror_mode": {
    "name": "ipython",
    "version": 3
   },
   "file_extension": ".py",
   "mimetype": "text/x-python",
   "name": "python",
   "nbconvert_exporter": "python",
   "pygments_lexer": "ipython3",
   "version": "3.6.1"
  }
 },
 "nbformat": 4,
 "nbformat_minor": 2
}
